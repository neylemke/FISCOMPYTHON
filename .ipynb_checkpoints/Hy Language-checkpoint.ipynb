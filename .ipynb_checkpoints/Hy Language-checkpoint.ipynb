{
 "cells": [
  {
   "cell_type": "markdown",
   "metadata": {
    "run_control": {
     "frozen": false,
     "read_only": false
    }
   },
   "source": [
    "# Hy Language\n",
    " \n",
    " A linguagem Hy é um dialeto do Lisp e possui várias vantagens, entre elas \n",
    " permitir usar as estrturas de dados do Pyhton. "
   ]
  },
  {
   "cell_type": "code",
   "execution_count": 2,
   "metadata": {
    "collapsed": true,
    "run_control": {
     "frozen": false,
     "read_only": false
    }
   },
   "outputs": [],
   "source": [
    "%load_ext hymagic\n"
   ]
  },
  {
   "cell_type": "code",
   "execution_count": 3,
   "metadata": {
    "collapsed": false,
    "run_control": {
     "frozen": false,
     "read_only": false
    }
   },
   "outputs": [
    {
     "name": "stdout",
     "output_type": "stream",
     "text": [
      "Hello Ney\n"
     ]
    }
   ],
   "source": [
    "%%hylang\n",
    "(defn hello [name]\n",
    "    (print (+ \"Hello \" name))\n",
    " )\n",
    "(hello \"Ney\")"
   ]
  },
  {
   "cell_type": "markdown",
   "metadata": {
    "run_control": {
     "frozen": false,
     "read_only": false
    }
   },
   "source": [
    "Podemos escrever das duas formas a pré e a pós-fixada chamadas das funções."
   ]
  },
  {
   "cell_type": "code",
   "execution_count": 4,
   "metadata": {
    "collapsed": false,
    "run_control": {
     "frozen": false,
     "read_only": false
    }
   },
   "outputs": [
    {
     "name": "stdout",
     "output_type": "stream",
     "text": [
      "Hello ney\n"
     ]
    }
   ],
   "source": [
    "hello(\"ney\")"
   ]
  },
  {
   "cell_type": "code",
   "execution_count": 5,
   "metadata": {
    "collapsed": false,
    "run_control": {
     "frozen": false,
     "read_only": false
    }
   },
   "outputs": [
    {
     "data": {
      "text/plain": [
       "[1.0, 1.4142135623730951, 1.7320508075688772]"
      ]
     },
     "execution_count": 5,
     "metadata": {},
     "output_type": "execute_result"
    }
   ],
   "source": [
    "%%hylang\n",
    "\n",
    "(import math)\n",
    "(defn safesqrt [x]\n",
    "    (if (< x 0)\n",
    "      (math.sqrt (- 0 x))\n",
    "      (math.sqrt x)\n",
    "    )\n",
    ")\n",
    "\n",
    "(list (map safesqrt [1 2 3]) )"
   ]
  },
  {
   "cell_type": "code",
   "execution_count": 6,
   "metadata": {
    "collapsed": false,
    "run_control": {
     "frozen": false,
     "read_only": false
    }
   },
   "outputs": [
    {
     "name": "stdout",
     "output_type": "stream",
     "text": [
      "IPython will make a temporary file named: /var/folders/t5/qgpdfs4n5qnd3kh9y7r80lmr0000gn/T/ipython_edit_tc5xuzkv/ipython_edit_xg04w_7k.py\n"
     ]
    }
   ],
   "source": [
    "%edit"
   ]
  },
  {
   "cell_type": "code",
   "execution_count": 8,
   "metadata": {
    "collapsed": false,
    "run_control": {
     "frozen": false,
     "read_only": false
    }
   },
   "outputs": [
    {
     "name": "stdout",
     "output_type": "stream",
     "text": [
      "negative\n"
     ]
    }
   ],
   "source": [
    "%%hylang\n",
    "   (defn categorize [x]\n",
    "   (cond\n",
    "   [(< x 0) (print \"negative\")]\n",
    "   [(= x 0) (print \"zero\")]\n",
    "   [(> x 0) (print \"positive\")]\n",
    "   )\n",
    "   )\n",
    "(categorize -2)"
   ]
  },
  {
   "cell_type": "code",
   "execution_count": 11,
   "metadata": {
    "collapsed": false
   },
   "outputs": [
    {
     "name": "stdout",
     "output_type": "stream",
     "text": [
      "Overwriting hy1.hy\n"
     ]
    }
   ],
   "source": [
    "%%writefile hy1.hy\n",
    "(print 1)"
   ]
  },
  {
   "cell_type": "code",
   "execution_count": 15,
   "metadata": {
    "collapsed": false,
    "run_control": {
     "frozen": false,
     "read_only": false
    }
   },
   "outputs": [
    {
     "name": "stdout",
     "output_type": "stream",
     "text": [
      "(print 1)\n"
     ]
    }
   ],
   "source": [
    "%%hylang\n",
    "(setv f (open \"hy1.hy\"))\n",
    "(print (.read f))"
   ]
  },
  {
   "cell_type": "code",
   "execution_count": 19,
   "metadata": {
    "collapsed": false
   },
   "outputs": [
    {
     "name": "stdout",
     "output_type": "stream",
     "text": [
      "Hello!  I'd like to get to know you.  Tell me about yourself!\n",
      "What is your name? Ney Lemke\n",
      "What is your age? 47\n",
      "Hello Ney Lemke!  I see you are 47 years old.\n"
     ]
    }
   ],
   "source": [
    "%%hylang\n",
    "\n",
    "(defn simple-conversation []\n",
    "   (print \"Hello!  I'd like to get to know you.  Tell me about yourself!\")\n",
    "   (setv name (input \"What is your name? \"))\n",
    "   (setv age (input \"What is your age? \"))\n",
    "   (print (+ \"Hello \" name \"!  I see you are \"\n",
    "              age \" years old.\")))\n",
    "(simple-conversation)\n"
   ]
  },
  {
   "cell_type": "code",
   "execution_count": 20,
   "metadata": {
    "collapsed": false
   },
   "outputs": [
    {
     "data": {
      "text/plain": [
       "'fooooo'"
      ]
     },
     "execution_count": 20,
     "metadata": {},
     "output_type": "execute_result"
    }
   ],
   "source": [
    "%%hylang\n",
    "(setv this-string \" fooooo   \")\n",
    "(this-string.strip)"
   ]
  },
  {
   "cell_type": "code",
   "execution_count": 21,
   "metadata": {
    "collapsed": false
   },
   "outputs": [
    {
     "name": "stdout",
     "output_type": "stream",
     "text": [
      "That variable is jussssst right!\n"
     ]
    }
   ],
   "source": [
    "%%hylang\n",
    "(setv somevar 33)\n",
    "(cond\n",
    " [(> somevar 50)\n",
    "  (print \"That variable is too big!\")]\n",
    " [(< somevar 10)\n",
    "  (print \"That variable is too small!\")]\n",
    " [True\n",
    "  (print \"That variable is jussssst right!\")])"
   ]
  },
  {
   "cell_type": "code",
   "execution_count": 22,
   "metadata": {
    "collapsed": false
   },
   "outputs": [
    {
     "ename": "NameError",
     "evalue": "name 'try_some_thing' is not defined",
     "output_type": "error",
     "traceback": [
      "\u001b[0;31m---------------------------------------------------------------------------\u001b[0m",
      "\u001b[0;31mNameError\u001b[0m                                 Traceback (most recent call last)",
      "\u001b[0;32m<input>\u001b[0m in \u001b[0;36m<module>\u001b[0;34m()\u001b[0m\n",
      "\u001b[0;31mNameError\u001b[0m: name 'try_some_thing' is not defined"
     ]
    }
   ],
   "source": [
    "%%hylang\n",
    "(if (try-some-thing)\n",
    "  (do\n",
    "    (print \"this is if true\")\n",
    "    (print \"and why not, let's keep talking about how true it is!\"))\n",
    "  (print \"this one's still simply just false\"))"
   ]
  },
  {
   "cell_type": "code",
   "execution_count": 23,
   "metadata": {
    "collapsed": false
   },
   "outputs": [
    {
     "name": "stdout",
     "output_type": "stream",
     "text": [
      "'i' is now at 0\n",
      "'i' is now at 1\n",
      "'i' is now at 2\n",
      "'i' is now at 3\n",
      "'i' is now at 4\n",
      "'i' is now at 5\n",
      "'i' is now at 6\n",
      "'i' is now at 7\n",
      "'i' is now at 8\n",
      "'i' is now at 9\n"
     ]
    }
   ],
   "source": [
    "%%hylang\n",
    "(for [i (range 10)]\n",
    "  (print (+ \"'i' is now at \" (str i))))"
   ]
  },
  {
   "cell_type": "code",
   "execution_count": 24,
   "metadata": {
    "collapsed": false
   },
   "outputs": [
    {
     "name": "stdout",
     "output_type": "stream",
     "text": [
      "Hey, that path isn't there!\n"
     ]
    }
   ],
   "source": [
    "%%hylang\n",
    "(import os)\n",
    "\n",
    "(if (os.path.isdir \"/tmp/somedir\")\n",
    "  (os.mkdir \"/tmp/somedir/anotherdir\")\n",
    "  (print \"Hey, that path isn't there!\"))"
   ]
  },
  {
   "cell_type": "code",
   "execution_count": 27,
   "metadata": {
    "collapsed": false
   },
   "outputs": [
    {
     "name": "stdout",
     "output_type": "stream",
     "text": [
      "[1, 9, 25, 49, 81, 121, 169, 225, 289, 361, 441, 529, 625, 729, 841, 961, 1089, 1225, 1369, 1521, 1681, 1849, 2025, 2209, 2401, 2601, 2809, 3025, 3249, 3481, 3721, 3969, 4225, 4489, 4761, 5041, 5329, 5625, 5929, 6241, 6561, 6889, 7225, 7569, 7921, 8281, 8649, 9025, 9409, 9801]\n"
     ]
    }
   ],
   "source": [
    "%%hylang\n",
    "(setv odds-squared\n",
    "  (list-comp\n",
    "    (pow num 2)\n",
    "    (num (range 100))\n",
    "    (= (% num 2) 1)))\n",
    "(print odds-squared)"
   ]
  },
  {
   "cell_type": "code",
   "execution_count": 28,
   "metadata": {
    "collapsed": false
   },
   "outputs": [
    {
     "data": {
      "text/plain": [
       "[(0, 'A'),\n",
       " (0, 'B'),\n",
       " (0, 'C'),\n",
       " (0, 'D'),\n",
       " (0, 'E'),\n",
       " (0, 'F'),\n",
       " (0, 'G'),\n",
       " (0, 'H'),\n",
       " (1, 'A'),\n",
       " (1, 'B'),\n",
       " (1, 'C'),\n",
       " (1, 'D'),\n",
       " (1, 'E'),\n",
       " (1, 'F'),\n",
       " (1, 'G'),\n",
       " (1, 'H'),\n",
       " (2, 'A'),\n",
       " (2, 'B'),\n",
       " (2, 'C'),\n",
       " (2, 'D'),\n",
       " (2, 'E'),\n",
       " (2, 'F'),\n",
       " (2, 'G'),\n",
       " (2, 'H'),\n",
       " (3, 'A'),\n",
       " (3, 'B'),\n",
       " (3, 'C'),\n",
       " (3, 'D'),\n",
       " (3, 'E'),\n",
       " (3, 'F'),\n",
       " (3, 'G'),\n",
       " (3, 'H'),\n",
       " (4, 'A'),\n",
       " (4, 'B'),\n",
       " (4, 'C'),\n",
       " (4, 'D'),\n",
       " (4, 'E'),\n",
       " (4, 'F'),\n",
       " (4, 'G'),\n",
       " (4, 'H'),\n",
       " (5, 'A'),\n",
       " (5, 'B'),\n",
       " (5, 'C'),\n",
       " (5, 'D'),\n",
       " (5, 'E'),\n",
       " (5, 'F'),\n",
       " (5, 'G'),\n",
       " (5, 'H'),\n",
       " (6, 'A'),\n",
       " (6, 'B'),\n",
       " (6, 'C'),\n",
       " (6, 'D'),\n",
       " (6, 'E'),\n",
       " (6, 'F'),\n",
       " (6, 'G'),\n",
       " (6, 'H'),\n",
       " (7, 'A'),\n",
       " (7, 'B'),\n",
       " (7, 'C'),\n",
       " (7, 'D'),\n",
       " (7, 'E'),\n",
       " (7, 'F'),\n",
       " (7, 'G'),\n",
       " (7, 'H')]"
      ]
     },
     "execution_count": 28,
     "metadata": {},
     "output_type": "execute_result"
    }
   ],
   "source": [
    "%%hylang\n",
    "(list-comp\n",
    "  (, x y)\n",
    "  (x (range 8)\n",
    "   y \"ABCDEFGH\"))\n"
   ]
  },
  {
   "cell_type": "code",
   "execution_count": 36,
   "metadata": {
    "collapsed": false
   },
   "outputs": [
    {
     "data": {
      "text/plain": [
       "[1, 2, 3, 4]"
      ]
     },
     "execution_count": 36,
     "metadata": {},
     "output_type": "execute_result"
    }
   ],
   "source": [
    "%%hylang \n",
    "(defn optional-arg [pos1 pos2 &optional keyword1 [keyword2 42]][pos1 pos2 keyword1 keyword2])\n",
    "\n",
    "(optional_arg 1 2)\n",
    "\n"
   ]
  },
  {
   "cell_type": "code",
   "execution_count": 37,
   "metadata": {
    "collapsed": false
   },
   "outputs": [
    {
     "data": {
      "text/plain": [
       "[1, 2, 3, 4]"
      ]
     },
     "execution_count": 37,
     "metadata": {},
     "output_type": "execute_result"
    }
   ],
   "source": [
    "%%hylang \n",
    "(optional-arg 1 2 3 4)"
   ]
  },
  {
   "cell_type": "code",
   "execution_count": 40,
   "metadata": {
    "collapsed": false
   },
   "outputs": [
    {
     "data": {
      "text/plain": [
       "6"
      ]
     },
     "execution_count": 40,
     "metadata": {},
     "output_type": "execute_result"
    }
   ],
   "source": [
    "%%hylang\n",
    "(defmacro rev [code]\n",
    "(let [op (last code) params (list (butlast code))]\n",
    "`(~op ~@params)))\n",
    "\n",
    "(rev (1 2 3 +))"
   ]
  },
  {
   "cell_type": "code",
   "execution_count": 41,
   "metadata": {
    "collapsed": false
   },
   "outputs": [
    {
     "data": {
      "text/plain": [
       "6"
      ]
     },
     "execution_count": 41,
     "metadata": {},
     "output_type": "execute_result"
    }
   ],
   "source": [
    "%%hylang \n",
    "(defreader ↻ [code]\n",
    "(let [op (last code) params (list (butlast code))]\n",
    "`(~op ~@params)))\n",
    " #↻(1 2 3 +)\n"
   ]
  },
  {
   "cell_type": "code",
   "execution_count": 44,
   "metadata": {
    "collapsed": false
   },
   "outputs": [
    {
     "ename": "ImportError",
     "evalue": "No module named 'sh'",
     "output_type": "error",
     "traceback": [
      "\u001b[0;31m---------------------------------------------------------------------------\u001b[0m",
      "\u001b[0;31mImportError\u001b[0m                               Traceback (most recent call last)",
      "\u001b[0;32m<input>\u001b[0m in \u001b[0;36m<module>\u001b[0;34m()\u001b[0m\n",
      "\u001b[0;31mImportError\u001b[0m: No module named 'sh'"
     ]
    }
   ],
   "source": [
    "%%hylang\n",
    "(import [sh [cat grep wc]])\n",
    "(-> (cat \"/usr/share/dict/words\") (grep \"-E\" \"^hy\") (wc \"-l\"))"
   ]
  },
  {
   "cell_type": "code",
   "execution_count": 46,
   "metadata": {
    "collapsed": false
   },
   "outputs": [
    {
     "ename": "ImportError",
     "evalue": "No module named 'shell'",
     "output_type": "error",
     "traceback": [
      "\u001b[0;31m---------------------------------------------------------------------------\u001b[0m",
      "\u001b[0;31mImportError\u001b[0m                               Traceback (most recent call last)",
      "\u001b[0;32m<ipython-input-46-ec2423b63bf0>\u001b[0m in \u001b[0;36m<module>\u001b[0;34m()\u001b[0m\n\u001b[0;32m----> 1\u001b[0;31m \u001b[0;32mimport\u001b[0m \u001b[0mshell\u001b[0m\u001b[0;34m\u001b[0m\u001b[0m\n\u001b[0m",
      "\u001b[0;31mImportError\u001b[0m: No module named 'shell'"
     ]
    }
   ],
   "source": [
    "import shell"
   ]
  },
  {
   "cell_type": "code",
   "execution_count": 47,
   "metadata": {
    "collapsed": false
   },
   "outputs": [
    {
     "ename": "ImportError",
     "evalue": "No module named 'sh'",
     "output_type": "error",
     "traceback": [
      "\u001b[0;31m---------------------------------------------------------------------------\u001b[0m",
      "\u001b[0;31mImportError\u001b[0m                               Traceback (most recent call last)",
      "\u001b[0;32m<ipython-input-47-43a77e1c98b4>\u001b[0m in \u001b[0;36m<module>\u001b[0;34m()\u001b[0m\n\u001b[0;32m----> 1\u001b[0;31m \u001b[0;32mfrom\u001b[0m \u001b[0msh\u001b[0m \u001b[0;32mimport\u001b[0m \u001b[0mifconfig\u001b[0m\u001b[0;34m\u001b[0m\u001b[0m\n\u001b[0m",
      "\u001b[0;31mImportError\u001b[0m: No module named 'sh'"
     ]
    }
   ],
   "source": [
    "from sh import ifconfig"
   ]
  },
  {
   "cell_type": "code",
   "execution_count": null,
   "metadata": {
    "collapsed": false
   },
   "outputs": [],
   "source": [
    "!pip install sh\n"
   ]
  },
  {
   "cell_type": "code",
   "execution_count": null,
   "metadata": {
    "collapsed": true
   },
   "outputs": [],
   "source": []
  }
 ],
 "metadata": {
  "kernelspec": {
   "display_name": "Python 3",
   "language": "python",
   "name": "python3"
  },
  "language_info": {
   "codemirror_mode": {
    "name": "ipython",
    "version": 3
   },
   "file_extension": ".py",
   "mimetype": "text/x-python",
   "name": "python",
   "nbconvert_exporter": "python",
   "pygments_lexer": "ipython3",
   "version": "3.4.5"
  }
 },
 "nbformat": 4,
 "nbformat_minor": 0
}
