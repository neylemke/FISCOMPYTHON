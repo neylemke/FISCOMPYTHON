{
 "cells": [
  {
   "cell_type": "code",
   "execution_count": 1,
   "metadata": {
    "collapsed": true
   },
   "outputs": [],
   "source": [
    "import numpy as np\n",
    "import pandas as pd\n",
    "import matplotlib.pyplot as plt\n",
    "%matplotlib inline          \n",
    "plt.style.use('ggplot')"
   ]
  },
  {
   "cell_type": "code",
   "execution_count": 2,
   "metadata": {
    "collapsed": false
   },
   "outputs": [
    {
     "name": "stdout",
     "output_type": "stream",
     "text": [
      "/Users/neylemke/tex/ensino/fiscomppython/minibook-2nd-code/chapter2\n"
     ]
    }
   ],
   "source": [
    "%cd minibook-2nd-code/chapter2/"
   ]
  },
  {
   "cell_type": "code",
   "execution_count": 3,
   "metadata": {
    "collapsed": false
   },
   "outputs": [
    {
     "name": "stdout",
     "output_type": "stream",
     "text": [
      "21-exploring.ipynb    23-groupby.ipynb      \u001b[34mdata\u001b[m\u001b[m\r\n",
      "22-manipulating.ipynb \u001b[34mcleaning\u001b[m\u001b[m              nyc_taxi.zip\r\n"
     ]
    }
   ],
   "source": [
    "!ls"
   ]
  },
  {
   "cell_type": "code",
   "execution_count": null,
   "metadata": {
    "collapsed": false
   },
   "outputs": [
    {
     "name": "stdout",
     "output_type": "stream",
     "text": [
      "  % Total    % Received % Xferd  Average Speed   Time    Time     Time  Current\n",
      "                                 Dload  Upload   Total   Spent    Left  Speed\n",
      "100 86.8M  100 86.8M    0     0  5430k      0  0:00:16  0:00:16 --:--:-- 7437k  0     0    0     0    0     0      0      0 --:--:--  0:00:01 --:--:--     02k\n",
      "Archive:  nyc_taxi.zip\n",
      "replace data/nyc_data.csv? [y]es, [n]o, [A]ll, [N]one, [r]ename: "
     ]
    }
   ],
   "source": [
    "#!curl https://raw.githubusercontent.com/ipython-books/minibook-2nd-data/master/nyc_taxi.zip > nyc_taxi.zip\n",
    "#!unzip nyc_taxi.zip"
   ]
  },
  {
   "cell_type": "code",
   "execution_count": 4,
   "metadata": {
    "collapsed": false
   },
   "outputs": [
    {
     "name": "stdout",
     "output_type": "stream",
     "text": [
      "21-exploring.ipynb    23-groupby.ipynb      \u001b[34mdata\u001b[m\u001b[m\r\n",
      "22-manipulating.ipynb \u001b[34mcleaning\u001b[m\u001b[m              nyc_taxi.zip\r\n"
     ]
    }
   ],
   "source": [
    "!ls"
   ]
  },
  {
   "cell_type": "code",
   "execution_count": 5,
   "metadata": {
    "collapsed": true
   },
   "outputs": [],
   "source": [
    "data_filename = 'data/nyc_data.csv'\n",
    "fare_filename = 'data/nyc_fare.csv'"
   ]
  },
  {
   "cell_type": "code",
   "execution_count": 6,
   "metadata": {
    "collapsed": false
   },
   "outputs": [],
   "source": [
    "data = pd.read_csv(data_filename,parse_dates=['pickup_datetime', 'dropoff_datetime'])\n",
    "fare = pd.read_csv(fare_filename,parse_dates=['pickup_datetime'])"
   ]
  },
  {
   "cell_type": "code",
   "execution_count": 7,
   "metadata": {
    "collapsed": false
   },
   "outputs": [
    {
     "data": {
      "text/html": [
       "<div>\n",
       "<table border=\"1\" class=\"dataframe\">\n",
       "  <thead>\n",
       "    <tr style=\"text-align: right;\">\n",
       "      <th></th>\n",
       "      <th>medallion</th>\n",
       "      <th>hack_license</th>\n",
       "      <th>vendor_id</th>\n",
       "      <th>rate_code</th>\n",
       "      <th>store_and_fwd_flag</th>\n",
       "      <th>pickup_datetime</th>\n",
       "      <th>dropoff_datetime</th>\n",
       "      <th>passenger_count</th>\n",
       "      <th>trip_time_in_secs</th>\n",
       "      <th>trip_distance</th>\n",
       "      <th>pickup_longitude</th>\n",
       "      <th>pickup_latitude</th>\n",
       "      <th>dropoff_longitude</th>\n",
       "      <th>dropoff_latitude</th>\n",
       "    </tr>\n",
       "  </thead>\n",
       "  <tbody>\n",
       "    <tr>\n",
       "      <th>0</th>\n",
       "      <td>76942C3205E17D7E7FE5A9F709D16434</td>\n",
       "      <td>25BA06A87905667AA1FE5990E33F0E2E</td>\n",
       "      <td>VTS</td>\n",
       "      <td>1</td>\n",
       "      <td>NaN</td>\n",
       "      <td>2013-01-01 00:00:00</td>\n",
       "      <td>2013-01-01 00:05:00</td>\n",
       "      <td>3</td>\n",
       "      <td>300</td>\n",
       "      <td>0.61</td>\n",
       "      <td>-73.955925</td>\n",
       "      <td>40.781887</td>\n",
       "      <td>-73.963181</td>\n",
       "      <td>40.777832</td>\n",
       "    </tr>\n",
       "    <tr>\n",
       "      <th>1</th>\n",
       "      <td>517C6B330DBB3F055D007B07512628B3</td>\n",
       "      <td>2C19FBEE1A6E05612EFE4C958C14BC7F</td>\n",
       "      <td>VTS</td>\n",
       "      <td>1</td>\n",
       "      <td>NaN</td>\n",
       "      <td>2013-01-01 00:05:00</td>\n",
       "      <td>2013-01-01 00:21:00</td>\n",
       "      <td>1</td>\n",
       "      <td>960</td>\n",
       "      <td>3.28</td>\n",
       "      <td>-74.005501</td>\n",
       "      <td>40.745735</td>\n",
       "      <td>-73.964943</td>\n",
       "      <td>40.755722</td>\n",
       "    </tr>\n",
       "    <tr>\n",
       "      <th>2</th>\n",
       "      <td>ED15611F168E41B33619C83D900FE266</td>\n",
       "      <td>754AEBD7C80DA17BA1D81D89FB6F4D1D</td>\n",
       "      <td>CMT</td>\n",
       "      <td>1</td>\n",
       "      <td>N</td>\n",
       "      <td>2013-01-01 00:05:52</td>\n",
       "      <td>2013-01-01 00:12:18</td>\n",
       "      <td>1</td>\n",
       "      <td>386</td>\n",
       "      <td>1.50</td>\n",
       "      <td>-73.969955</td>\n",
       "      <td>40.799770</td>\n",
       "      <td>-73.954567</td>\n",
       "      <td>40.787392</td>\n",
       "    </tr>\n",
       "  </tbody>\n",
       "</table>\n",
       "</div>"
      ],
      "text/plain": [
       "                          medallion                      hack_license  \\\n",
       "0  76942C3205E17D7E7FE5A9F709D16434  25BA06A87905667AA1FE5990E33F0E2E   \n",
       "1  517C6B330DBB3F055D007B07512628B3  2C19FBEE1A6E05612EFE4C958C14BC7F   \n",
       "2  ED15611F168E41B33619C83D900FE266  754AEBD7C80DA17BA1D81D89FB6F4D1D   \n",
       "\n",
       "  vendor_id  rate_code store_and_fwd_flag     pickup_datetime  \\\n",
       "0       VTS          1                NaN 2013-01-01 00:00:00   \n",
       "1       VTS          1                NaN 2013-01-01 00:05:00   \n",
       "2       CMT          1                  N 2013-01-01 00:05:52   \n",
       "\n",
       "     dropoff_datetime  passenger_count  trip_time_in_secs  trip_distance  \\\n",
       "0 2013-01-01 00:05:00                3                300           0.61   \n",
       "1 2013-01-01 00:21:00                1                960           3.28   \n",
       "2 2013-01-01 00:12:18                1                386           1.50   \n",
       "\n",
       "   pickup_longitude  pickup_latitude  dropoff_longitude  dropoff_latitude  \n",
       "0        -73.955925        40.781887         -73.963181         40.777832  \n",
       "1        -74.005501        40.745735         -73.964943         40.755722  \n",
       "2        -73.969955        40.799770         -73.954567         40.787392  "
      ]
     },
     "execution_count": 7,
     "metadata": {},
     "output_type": "execute_result"
    }
   ],
   "source": [
    "data.head(3)\n"
   ]
  },
  {
   "cell_type": "code",
   "execution_count": 8,
   "metadata": {
    "collapsed": false
   },
   "outputs": [
    {
     "data": {
      "text/html": [
       "<div>\n",
       "<table border=\"1\" class=\"dataframe\">\n",
       "  <thead>\n",
       "    <tr style=\"text-align: right;\">\n",
       "      <th></th>\n",
       "      <th>rate_code</th>\n",
       "      <th>passenger_count</th>\n",
       "      <th>trip_time_in_secs</th>\n",
       "      <th>trip_distance</th>\n",
       "      <th>pickup_longitude</th>\n",
       "      <th>pickup_latitude</th>\n",
       "      <th>dropoff_longitude</th>\n",
       "      <th>dropoff_latitude</th>\n",
       "    </tr>\n",
       "  </thead>\n",
       "  <tbody>\n",
       "    <tr>\n",
       "      <th>count</th>\n",
       "      <td>846945.000000</td>\n",
       "      <td>846945.000000</td>\n",
       "      <td>846945.000000</td>\n",
       "      <td>846945.000000</td>\n",
       "      <td>846945.000000</td>\n",
       "      <td>846945.000000</td>\n",
       "      <td>846945.000000</td>\n",
       "      <td>846945.000000</td>\n",
       "    </tr>\n",
       "    <tr>\n",
       "      <th>mean</th>\n",
       "      <td>1.026123</td>\n",
       "      <td>1.710272</td>\n",
       "      <td>812.523879</td>\n",
       "      <td>9.958211</td>\n",
       "      <td>-73.975155</td>\n",
       "      <td>40.750490</td>\n",
       "      <td>-73.974197</td>\n",
       "      <td>40.750967</td>\n",
       "    </tr>\n",
       "    <tr>\n",
       "      <th>std</th>\n",
       "      <td>0.223480</td>\n",
       "      <td>1.375266</td>\n",
       "      <td>16098.305145</td>\n",
       "      <td>6525.204888</td>\n",
       "      <td>0.035142</td>\n",
       "      <td>0.027224</td>\n",
       "      <td>0.033453</td>\n",
       "      <td>0.030766</td>\n",
       "    </tr>\n",
       "    <tr>\n",
       "      <th>min</th>\n",
       "      <td>0.000000</td>\n",
       "      <td>0.000000</td>\n",
       "      <td>-10.000000</td>\n",
       "      <td>0.000000</td>\n",
       "      <td>-74.098305</td>\n",
       "      <td>40.009911</td>\n",
       "      <td>-74.099998</td>\n",
       "      <td>40.009911</td>\n",
       "    </tr>\n",
       "    <tr>\n",
       "      <th>25%</th>\n",
       "      <td>1.000000</td>\n",
       "      <td>1.000000</td>\n",
       "      <td>361.000000</td>\n",
       "      <td>1.050000</td>\n",
       "      <td>-73.992371</td>\n",
       "      <td>40.736031</td>\n",
       "      <td>-73.991570</td>\n",
       "      <td>40.735207</td>\n",
       "    </tr>\n",
       "    <tr>\n",
       "      <th>50%</th>\n",
       "      <td>1.000000</td>\n",
       "      <td>1.000000</td>\n",
       "      <td>600.000000</td>\n",
       "      <td>1.800000</td>\n",
       "      <td>-73.982094</td>\n",
       "      <td>40.752975</td>\n",
       "      <td>-73.980614</td>\n",
       "      <td>40.753597</td>\n",
       "    </tr>\n",
       "    <tr>\n",
       "      <th>75%</th>\n",
       "      <td>1.000000</td>\n",
       "      <td>2.000000</td>\n",
       "      <td>960.000000</td>\n",
       "      <td>3.200000</td>\n",
       "      <td>-73.968048</td>\n",
       "      <td>40.767460</td>\n",
       "      <td>-73.965157</td>\n",
       "      <td>40.768227</td>\n",
       "    </tr>\n",
       "    <tr>\n",
       "      <th>max</th>\n",
       "      <td>6.000000</td>\n",
       "      <td>6.000000</td>\n",
       "      <td>4294796.000000</td>\n",
       "      <td>6005123.000000</td>\n",
       "      <td>-73.028473</td>\n",
       "      <td>40.996132</td>\n",
       "      <td>-73.027061</td>\n",
       "      <td>40.998592</td>\n",
       "    </tr>\n",
       "  </tbody>\n",
       "</table>\n",
       "</div>"
      ],
      "text/plain": [
       "           rate_code  passenger_count  trip_time_in_secs   trip_distance  \\\n",
       "count  846945.000000    846945.000000      846945.000000   846945.000000   \n",
       "mean        1.026123         1.710272         812.523879        9.958211   \n",
       "std         0.223480         1.375266       16098.305145     6525.204888   \n",
       "min         0.000000         0.000000         -10.000000        0.000000   \n",
       "25%         1.000000         1.000000         361.000000        1.050000   \n",
       "50%         1.000000         1.000000         600.000000        1.800000   \n",
       "75%         1.000000         2.000000         960.000000        3.200000   \n",
       "max         6.000000         6.000000     4294796.000000  6005123.000000   \n",
       "\n",
       "       pickup_longitude  pickup_latitude  dropoff_longitude  dropoff_latitude  \n",
       "count     846945.000000    846945.000000      846945.000000     846945.000000  \n",
       "mean         -73.975155        40.750490         -73.974197         40.750967  \n",
       "std            0.035142         0.027224           0.033453          0.030766  \n",
       "min          -74.098305        40.009911         -74.099998         40.009911  \n",
       "25%          -73.992371        40.736031         -73.991570         40.735207  \n",
       "50%          -73.982094        40.752975         -73.980614         40.753597  \n",
       "75%          -73.968048        40.767460         -73.965157         40.768227  \n",
       "max          -73.028473        40.996132         -73.027061         40.998592  "
      ]
     },
     "execution_count": 8,
     "metadata": {},
     "output_type": "execute_result"
    }
   ],
   "source": [
    "data.describe()"
   ]
  },
  {
   "cell_type": "code",
   "execution_count": 9,
   "metadata": {
    "collapsed": false
   },
   "outputs": [
    {
     "data": {
      "text/plain": [
       "Index(['medallion', 'hack_license', 'vendor_id', 'rate_code',\n",
       "       'store_and_fwd_flag', 'pickup_datetime', 'dropoff_datetime',\n",
       "       'passenger_count', 'trip_time_in_secs', 'trip_distance',\n",
       "       'pickup_longitude', 'pickup_latitude', 'dropoff_longitude',\n",
       "       'dropoff_latitude'],\n",
       "      dtype='object')"
      ]
     },
     "execution_count": 9,
     "metadata": {},
     "output_type": "execute_result"
    }
   ],
   "source": [
    "data.columns"
   ]
  },
  {
   "cell_type": "code",
   "execution_count": 10,
   "metadata": {
    "collapsed": true
   },
   "outputs": [],
   "source": [
    "p_lng = data.pickup_longitude\n",
    "p_lat = data.pickup_latitude\n",
    "d_lng = data.dropoff_longitude\n",
    "d_lat = data.dropoff_latitude"
   ]
  },
  {
   "cell_type": "code",
   "execution_count": 11,
   "metadata": {
    "collapsed": true
   },
   "outputs": [],
   "source": [
    "def lat_lng_to_pixels(lat, lng):\n",
    "    lat_rad = lat * np.pi / 180.0\n",
    "    lat_rad = np.log(np.tan((lat_rad + np.pi / 2.0) / 2.0))\n",
    "    x = 100 * (lng + 180.0) / 360.0\n",
    "    y = 100 * (lat_rad - np.pi) / (2.0 * np.pi)\n",
    "    return (x, y)"
   ]
  },
  {
   "cell_type": "code",
   "execution_count": 12,
   "metadata": {
    "collapsed": true
   },
   "outputs": [],
   "source": [
    "px, py = lat_lng_to_pixels(p_lat, p_lng)"
   ]
  },
  {
   "cell_type": "code",
   "execution_count": 13,
   "metadata": {
    "collapsed": false
   },
   "outputs": [
    {
     "data": {
      "text/plain": [
       "<matplotlib.collections.PathCollection at 0x11009ac18>"
      ]
     },
     "execution_count": 13,
     "metadata": {},
     "output_type": "execute_result"
    },
    {
     "data": {
      "image/png": "[encoded data removed]",
      "text/plain": [
       "<matplotlib.figure.Figure at 0x1135ea668>"
      ]
     },
     "metadata": {},
     "output_type": "display_data"
    }
   ],
   "source": [
    "plt.scatter(px, py)"
   ]
  },
  {
   "cell_type": "code",
   "execution_count": 14,
   "metadata": {
    "collapsed": false
   },
   "outputs": [
    {
     "data": {
      "text/plain": [
       "(29.399999999999999,\n",
       " 29.550000000000001,\n",
       " -37.630000000000003,\n",
       " -37.539999999999999)"
      ]
     },
     "execution_count": 14,
     "metadata": {},
     "output_type": "execute_result"
    },
    {
     "data": {
      "image/png": "[encoded data removed]",
      "text/plain": [
       "<matplotlib.figure.Figure at 0x1165bfcc0>"
      ]
     },
     "metadata": {},
     "output_type": "display_data"
    }
   ],
   "source": [
    "plt.figure(figsize=(8, 6))\n",
    "plt.scatter(px, py, s=.1, alpha=.8)\n",
    "plt.axis('equal')\n",
    "plt.xlim(29.40, 29.55)\n",
    "plt.ylim(-37.63, -37.54)\n",
    "plt.axis('off')"
   ]
  },
  {
   "cell_type": "code",
   "execution_count": 15,
   "metadata": {
    "collapsed": false
   },
   "outputs": [],
   "source": [
    "import seaborn as sns"
   ]
  },
  {
   "cell_type": "code",
   "execution_count": 16,
   "metadata": {
    "collapsed": false
   },
   "outputs": [
    {
     "data": {
      "text/plain": [
       "<matplotlib.axes._subplots.AxesSubplot at 0x10b5f1e10>"
      ]
     },
     "execution_count": 16,
     "metadata": {},
     "output_type": "execute_result"
    },
    {
     "data": {
      "image/png": "[encoded data removed]",
      "text/plain": [
       "<matplotlib.figure.Figure at 0x10b5f1630>"
      ]
     },
     "metadata": {},
     "output_type": "display_data"
    }
   ],
   "source": [
    "data.trip_distance.hist(bins=np.linspace(0., 10., 100))"
   ]
  },
  {
   "cell_type": "code",
   "execution_count": 17,
   "metadata": {
    "collapsed": false
   },
   "outputs": [
    {
     "data": {
      "text/html": [
       "<div>\n",
       "<table border=\"1\" class=\"dataframe\">\n",
       "  <thead>\n",
       "    <tr style=\"text-align: right;\">\n",
       "      <th></th>\n",
       "      <th>trip_distance</th>\n",
       "      <th>trip_time_in_secs</th>\n",
       "    </tr>\n",
       "  </thead>\n",
       "  <tbody>\n",
       "    <tr>\n",
       "      <th>0</th>\n",
       "      <td>0.61</td>\n",
       "      <td>300</td>\n",
       "    </tr>\n",
       "    <tr>\n",
       "      <th>1</th>\n",
       "      <td>3.28</td>\n",
       "      <td>960</td>\n",
       "    </tr>\n",
       "    <tr>\n",
       "      <th>2</th>\n",
       "      <td>1.50</td>\n",
       "      <td>386</td>\n",
       "    </tr>\n",
       "  </tbody>\n",
       "</table>\n",
       "</div>"
      ],
      "text/plain": [
       "   trip_distance  trip_time_in_secs\n",
       "0           0.61                300\n",
       "1           3.28                960\n",
       "2           1.50                386"
      ]
     },
     "execution_count": 17,
     "metadata": {},
     "output_type": "execute_result"
    }
   ],
   "source": [
    "data[['trip_distance', 'trip_time_in_secs']].head(3)"
   ]
  },
  {
   "cell_type": "code",
   "execution_count": 18,
   "metadata": {
    "collapsed": false
   },
   "outputs": [
    {
     "data": {
      "text/plain": [
       "medallion             76942C3205E17D7E7FE5A9F709D16434\n",
       "hack_license          25BA06A87905667AA1FE5990E33F0E2E\n",
       "vendor_id                                          VTS\n",
       "rate_code                                            1\n",
       "store_and_fwd_flag                                 NaN\n",
       "pickup_datetime                    2013-01-01 00:00:00\n",
       "dropoff_datetime                   2013-01-01 00:05:00\n",
       "passenger_count                                      3\n",
       "trip_time_in_secs                                  300\n",
       "trip_distance                                     0.61\n",
       "pickup_longitude                             -73.95592\n",
       "pickup_latitude                               40.78189\n",
       "dropoff_longitude                            -73.96318\n",
       "dropoff_latitude                              40.77783\n",
       "Name: 0, dtype: object"
      ]
     },
     "execution_count": 18,
     "metadata": {},
     "output_type": "execute_result"
    }
   ],
   "source": [
    "data.loc[0]"
   ]
  },
  {
   "cell_type": "code",
   "execution_count": 19,
   "metadata": {
    "collapsed": false
   },
   "outputs": [
    {
     "data": {
      "text/html": [
       "<div>\n",
       "<table border=\"1\" class=\"dataframe\">\n",
       "  <thead>\n",
       "    <tr style=\"text-align: right;\">\n",
       "      <th></th>\n",
       "      <th>medallion</th>\n",
       "      <th>hack_license</th>\n",
       "      <th>vendor_id</th>\n",
       "      <th>rate_code</th>\n",
       "      <th>store_and_fwd_flag</th>\n",
       "      <th>pickup_datetime</th>\n",
       "      <th>dropoff_datetime</th>\n",
       "      <th>passenger_count</th>\n",
       "      <th>trip_time_in_secs</th>\n",
       "      <th>trip_distance</th>\n",
       "      <th>pickup_longitude</th>\n",
       "      <th>pickup_latitude</th>\n",
       "      <th>dropoff_longitude</th>\n",
       "      <th>dropoff_latitude</th>\n",
       "    </tr>\n",
       "  </thead>\n",
       "  <tbody>\n",
       "    <tr>\n",
       "      <th>0</th>\n",
       "      <td>76942C3205E17D7E7FE5A9F709D16434</td>\n",
       "      <td>25BA06A87905667AA1FE5990E33F0E2E</td>\n",
       "      <td>VTS</td>\n",
       "      <td>1</td>\n",
       "      <td>NaN</td>\n",
       "      <td>2013-01-01 00:00:00</td>\n",
       "      <td>2013-01-01 00:05:00</td>\n",
       "      <td>3</td>\n",
       "      <td>300</td>\n",
       "      <td>0.61</td>\n",
       "      <td>-73.955925</td>\n",
       "      <td>40.781887</td>\n",
       "      <td>-73.963181</td>\n",
       "      <td>40.777832</td>\n",
       "    </tr>\n",
       "    <tr>\n",
       "      <th>6</th>\n",
       "      <td>36EDC01D57A6489E2DEE50734ECB327D</td>\n",
       "      <td>35E93075DA51FFDEFA6B3FA0C49A0C70</td>\n",
       "      <td>VTS</td>\n",
       "      <td>1</td>\n",
       "      <td>NaN</td>\n",
       "      <td>2013-01-01 00:08:00</td>\n",
       "      <td>2013-01-01 00:15:00</td>\n",
       "      <td>5</td>\n",
       "      <td>420</td>\n",
       "      <td>1.25</td>\n",
       "      <td>-73.985580</td>\n",
       "      <td>40.752197</td>\n",
       "      <td>-73.988777</td>\n",
       "      <td>40.737244</td>\n",
       "    </tr>\n",
       "    <tr>\n",
       "      <th>100000</th>\n",
       "      <td>7461F7106D33D3A5775F4245724606FD</td>\n",
       "      <td>BACEA353BB4106A005BB7836BDCAC0C3</td>\n",
       "      <td>VTS</td>\n",
       "      <td>1</td>\n",
       "      <td>NaN</td>\n",
       "      <td>2013-02-12 18:10:00</td>\n",
       "      <td>2013-02-12 18:20:00</td>\n",
       "      <td>2</td>\n",
       "      <td>600</td>\n",
       "      <td>2.02</td>\n",
       "      <td>-73.966454</td>\n",
       "      <td>40.770512</td>\n",
       "      <td>-73.958862</td>\n",
       "      <td>40.778042</td>\n",
       "    </tr>\n",
       "  </tbody>\n",
       "</table>\n",
       "</div>"
      ],
      "text/plain": [
       "                               medallion                      hack_license  \\\n",
       "0       76942C3205E17D7E7FE5A9F709D16434  25BA06A87905667AA1FE5990E33F0E2E   \n",
       "6       36EDC01D57A6489E2DEE50734ECB327D  35E93075DA51FFDEFA6B3FA0C49A0C70   \n",
       "100000  7461F7106D33D3A5775F4245724606FD  BACEA353BB4106A005BB7836BDCAC0C3   \n",
       "\n",
       "       vendor_id  rate_code store_and_fwd_flag     pickup_datetime  \\\n",
       "0            VTS          1                NaN 2013-01-01 00:00:00   \n",
       "6            VTS          1                NaN 2013-01-01 00:08:00   \n",
       "100000       VTS          1                NaN 2013-02-12 18:10:00   \n",
       "\n",
       "          dropoff_datetime  passenger_count  trip_time_in_secs  trip_distance  \\\n",
       "0      2013-01-01 00:05:00                3                300           0.61   \n",
       "6      2013-01-01 00:15:00                5                420           1.25   \n",
       "100000 2013-02-12 18:20:00                2                600           2.02   \n",
       "\n",
       "        pickup_longitude  pickup_latitude  dropoff_longitude  dropoff_latitude  \n",
       "0             -73.955925        40.781887         -73.963181         40.777832  \n",
       "6             -73.985580        40.752197         -73.988777         40.737244  \n",
       "100000        -73.966454        40.770512         -73.958862         40.778042  "
      ]
     },
     "execution_count": 19,
     "metadata": {},
     "output_type": "execute_result"
    }
   ],
   "source": [
    "data.loc[[0, 6,100000]]"
   ]
  },
  {
   "cell_type": "code",
   "execution_count": 20,
   "metadata": {
    "collapsed": false
   },
   "outputs": [
    {
     "data": {
      "text/html": [
       "<div>\n",
       "<table border=\"1\" class=\"dataframe\">\n",
       "  <thead>\n",
       "    <tr style=\"text-align: right;\">\n",
       "      <th></th>\n",
       "      <th>medallion</th>\n",
       "      <th>hack_license</th>\n",
       "      <th>vendor_id</th>\n",
       "      <th>rate_code</th>\n",
       "      <th>store_and_fwd_flag</th>\n",
       "      <th>pickup_datetime</th>\n",
       "      <th>dropoff_datetime</th>\n",
       "      <th>passenger_count</th>\n",
       "      <th>trip_time_in_secs</th>\n",
       "      <th>trip_distance</th>\n",
       "      <th>pickup_longitude</th>\n",
       "      <th>pickup_latitude</th>\n",
       "      <th>dropoff_longitude</th>\n",
       "      <th>dropoff_latitude</th>\n",
       "    </tr>\n",
       "  </thead>\n",
       "  <tbody>\n",
       "    <tr>\n",
       "      <th>1853</th>\n",
       "      <td>DA2A0A9EBD9AFD25013CF83805B61D6D</td>\n",
       "      <td>A3BCE60F48302B63C4B7AAE443960704</td>\n",
       "      <td>CMT</td>\n",
       "      <td>1</td>\n",
       "      <td>N</td>\n",
       "      <td>2013-01-01 21:41:03</td>\n",
       "      <td>2013-01-01 21:56:37</td>\n",
       "      <td>1</td>\n",
       "      <td>934</td>\n",
       "      <td>52.20</td>\n",
       "      <td>-73.979576</td>\n",
       "      <td>40.743626</td>\n",
       "      <td>-73.941902</td>\n",
       "      <td>40.807281</td>\n",
       "    </tr>\n",
       "    <tr>\n",
       "      <th>6316</th>\n",
       "      <td>6BD1B641A1CD55803A21560299B985A7</td>\n",
       "      <td>A33DB5A909ADBFCE2AB057264141C8E9</td>\n",
       "      <td>CMT</td>\n",
       "      <td>1</td>\n",
       "      <td>N</td>\n",
       "      <td>2013-01-04 06:44:21</td>\n",
       "      <td>2013-01-04 07:17:14</td>\n",
       "      <td>1</td>\n",
       "      <td>1973</td>\n",
       "      <td>96.30</td>\n",
       "      <td>-73.959785</td>\n",
       "      <td>40.762497</td>\n",
       "      <td>-73.962440</td>\n",
       "      <td>40.662910</td>\n",
       "    </tr>\n",
       "    <tr>\n",
       "      <th>8683</th>\n",
       "      <td>E95D27A43DC7A5F0C015409386BB49DB</td>\n",
       "      <td>8A6EB7FA7E6A3F4A50C717871C068D72</td>\n",
       "      <td>CMT</td>\n",
       "      <td>1</td>\n",
       "      <td>N</td>\n",
       "      <td>2013-01-05 01:51:08</td>\n",
       "      <td>2013-01-05 02:23:01</td>\n",
       "      <td>1</td>\n",
       "      <td>1913</td>\n",
       "      <td>52.90</td>\n",
       "      <td>-74.006119</td>\n",
       "      <td>40.735157</td>\n",
       "      <td>-73.958694</td>\n",
       "      <td>40.714905</td>\n",
       "    </tr>\n",
       "    <tr>\n",
       "      <th>24381</th>\n",
       "      <td>A38882246FC6439948FA470459F94134</td>\n",
       "      <td>8A60E3668580091A4BB124E9BDAFDD89</td>\n",
       "      <td>CMT</td>\n",
       "      <td>1</td>\n",
       "      <td>N</td>\n",
       "      <td>2013-01-12 03:02:55</td>\n",
       "      <td>2013-01-12 03:24:47</td>\n",
       "      <td>1</td>\n",
       "      <td>1312</td>\n",
       "      <td>66.20</td>\n",
       "      <td>-73.966873</td>\n",
       "      <td>40.683315</td>\n",
       "      <td>-73.916885</td>\n",
       "      <td>40.754852</td>\n",
       "    </tr>\n",
       "    <tr>\n",
       "      <th>54723</th>\n",
       "      <td>0F48C5AE255A294B4E88ECC3CED0CFC5</td>\n",
       "      <td>C92D893B061C29C152ADF42B15317C3E</td>\n",
       "      <td>CMT</td>\n",
       "      <td>5</td>\n",
       "      <td>N</td>\n",
       "      <td>2013-01-24 21:07:13</td>\n",
       "      <td>2013-01-24 21:31:44</td>\n",
       "      <td>1</td>\n",
       "      <td>1471</td>\n",
       "      <td>79.40</td>\n",
       "      <td>-73.885735</td>\n",
       "      <td>40.771580</td>\n",
       "      <td>-73.984947</td>\n",
       "      <td>40.758060</td>\n",
       "    </tr>\n",
       "    <tr>\n",
       "      <th>90068</th>\n",
       "      <td>7B59F6023736C5217B613D17B4ED6A9C</td>\n",
       "      <td>F2D89276E3886C6A8D27AE463637FF36</td>\n",
       "      <td>CMT</td>\n",
       "      <td>1</td>\n",
       "      <td>N</td>\n",
       "      <td>2013-02-08 01:54:21</td>\n",
       "      <td>2013-02-08 02:02:03</td>\n",
       "      <td>1</td>\n",
       "      <td>461</td>\n",
       "      <td>70.90</td>\n",
       "      <td>-73.985512</td>\n",
       "      <td>40.742313</td>\n",
       "      <td>-73.993950</td>\n",
       "      <td>40.720837</td>\n",
       "    </tr>\n",
       "    <tr>\n",
       "      <th>115471</th>\n",
       "      <td>FB0FAE6EABFE14F45600AD382B52EFE5</td>\n",
       "      <td>0D39DD3359634605EAC8B451295E8186</td>\n",
       "      <td>CMT</td>\n",
       "      <td>1</td>\n",
       "      <td>N</td>\n",
       "      <td>2013-02-18 19:52:08</td>\n",
       "      <td>2013-02-18 20:07:33</td>\n",
       "      <td>1</td>\n",
       "      <td>925</td>\n",
       "      <td>67.20</td>\n",
       "      <td>-73.874474</td>\n",
       "      <td>40.773975</td>\n",
       "      <td>-73.937866</td>\n",
       "      <td>40.723824</td>\n",
       "    </tr>\n",
       "    <tr>\n",
       "      <th>119002</th>\n",
       "      <td>A51E7B7371667690E65D88307FBBA229</td>\n",
       "      <td>3A6EDD62A2933A11545527FDE55DAC52</td>\n",
       "      <td>CMT</td>\n",
       "      <td>1</td>\n",
       "      <td>N</td>\n",
       "      <td>2013-02-20 12:20:03</td>\n",
       "      <td>2013-02-20 12:43:12</td>\n",
       "      <td>1</td>\n",
       "      <td>1389</td>\n",
       "      <td>87.90</td>\n",
       "      <td>-73.862915</td>\n",
       "      <td>40.769157</td>\n",
       "      <td>-73.973579</td>\n",
       "      <td>40.748199</td>\n",
       "    </tr>\n",
       "    <tr>\n",
       "      <th>134839</th>\n",
       "      <td>FA189EABBB4058AC0359AA1CF30F5313</td>\n",
       "      <td>C707B5A8C6AEF269564272AF66B37564</td>\n",
       "      <td>CMT</td>\n",
       "      <td>1</td>\n",
       "      <td>Y</td>\n",
       "      <td>2013-02-26 17:54:11</td>\n",
       "      <td>2013-02-26 18:45:03</td>\n",
       "      <td>1</td>\n",
       "      <td>3052</td>\n",
       "      <td>69.80</td>\n",
       "      <td>-73.989853</td>\n",
       "      <td>40.729340</td>\n",
       "      <td>-73.964035</td>\n",
       "      <td>40.771950</td>\n",
       "    </tr>\n",
       "    <tr>\n",
       "      <th>157050</th>\n",
       "      <td>C4580AE98B332B1E4B6B822B1C2D03BE</td>\n",
       "      <td>E2CB66B7D37105F7C3364DFF61E4D487</td>\n",
       "      <td>VTS</td>\n",
       "      <td>2</td>\n",
       "      <td>NaN</td>\n",
       "      <td>2013-03-07 12:34:00</td>\n",
       "      <td>2013-03-07 15:24:00</td>\n",
       "      <td>6</td>\n",
       "      <td>10200</td>\n",
       "      <td>60.14</td>\n",
       "      <td>-73.777405</td>\n",
       "      <td>40.646626</td>\n",
       "      <td>-73.982193</td>\n",
       "      <td>40.769535</td>\n",
       "    </tr>\n",
       "    <tr>\n",
       "      <th>201876</th>\n",
       "      <td>DBCD64B365502F85569B4A264B798AAE</td>\n",
       "      <td>D404427B22B187FE0460668FDEC9937E</td>\n",
       "      <td>CMT</td>\n",
       "      <td>1</td>\n",
       "      <td>N</td>\n",
       "      <td>2013-03-25 09:30:28</td>\n",
       "      <td>2013-03-25 10:07:32</td>\n",
       "      <td>2</td>\n",
       "      <td>2224</td>\n",
       "      <td>61.00</td>\n",
       "      <td>-73.988136</td>\n",
       "      <td>40.749702</td>\n",
       "      <td>-73.887688</td>\n",
       "      <td>40.859402</td>\n",
       "    </tr>\n",
       "    <tr>\n",
       "      <th>210667</th>\n",
       "      <td>BD4738379B8C2E8168F48CFFDE2F94E6</td>\n",
       "      <td>E6F2B8515FE5A32AACF884FBA21F0170</td>\n",
       "      <td>CMT</td>\n",
       "      <td>1</td>\n",
       "      <td>N</td>\n",
       "      <td>2013-03-28 23:25:31</td>\n",
       "      <td>2013-03-28 23:36:47</td>\n",
       "      <td>1</td>\n",
       "      <td>675</td>\n",
       "      <td>52.50</td>\n",
       "      <td>-73.979370</td>\n",
       "      <td>40.766933</td>\n",
       "      <td>-73.992043</td>\n",
       "      <td>40.759903</td>\n",
       "    </tr>\n",
       "    <tr>\n",
       "      <th>238505</th>\n",
       "      <td>4ADDFBA1E3FD055AB4854D003976F263</td>\n",
       "      <td>2B09130C92CF5199315044DFE89D6356</td>\n",
       "      <td>CMT</td>\n",
       "      <td>1</td>\n",
       "      <td>N</td>\n",
       "      <td>2013-04-09 15:10:48</td>\n",
       "      <td>2013-04-09 15:19:54</td>\n",
       "      <td>1</td>\n",
       "      <td>545</td>\n",
       "      <td>85.30</td>\n",
       "      <td>-73.979851</td>\n",
       "      <td>40.764091</td>\n",
       "      <td>-73.982155</td>\n",
       "      <td>40.777206</td>\n",
       "    </tr>\n",
       "    <tr>\n",
       "      <th>305690</th>\n",
       "      <td>A895384C359AABDA144AF574989DA1C3</td>\n",
       "      <td>CEEB6BCC5E4705A32043BCA2DBA78E3E</td>\n",
       "      <td>CMT</td>\n",
       "      <td>1</td>\n",
       "      <td>N</td>\n",
       "      <td>2013-05-06 12:35:03</td>\n",
       "      <td>2013-05-06 12:45:28</td>\n",
       "      <td>1</td>\n",
       "      <td>623</td>\n",
       "      <td>50.50</td>\n",
       "      <td>-73.978287</td>\n",
       "      <td>40.773117</td>\n",
       "      <td>-73.978287</td>\n",
       "      <td>40.773117</td>\n",
       "    </tr>\n",
       "    <tr>\n",
       "      <th>450941</th>\n",
       "      <td>849397BEC809E0CBF9FF645FE7FD96A8</td>\n",
       "      <td>BC7E6894AF102A345E3D050121FAA1F2</td>\n",
       "      <td>CMT</td>\n",
       "      <td>1</td>\n",
       "      <td>N</td>\n",
       "      <td>2013-07-09 13:51:02</td>\n",
       "      <td>2013-07-09 14:13:53</td>\n",
       "      <td>4</td>\n",
       "      <td>1371</td>\n",
       "      <td>88.00</td>\n",
       "      <td>-73.987518</td>\n",
       "      <td>40.747070</td>\n",
       "      <td>-73.870758</td>\n",
       "      <td>40.772087</td>\n",
       "    </tr>\n",
       "    <tr>\n",
       "      <th>504497</th>\n",
       "      <td>7237EC7ABD6114EDDC87A3AA846F8418</td>\n",
       "      <td>D52502537E2DF62C9BFFECF5A387E7E9</td>\n",
       "      <td>CMT</td>\n",
       "      <td>1</td>\n",
       "      <td>N</td>\n",
       "      <td>2013-08-02 11:22:31</td>\n",
       "      <td>2013-08-02 11:33:03</td>\n",
       "      <td>1</td>\n",
       "      <td>631</td>\n",
       "      <td>6005123.00</td>\n",
       "      <td>-73.997467</td>\n",
       "      <td>40.736397</td>\n",
       "      <td>-73.991882</td>\n",
       "      <td>40.764629</td>\n",
       "    </tr>\n",
       "    <tr>\n",
       "      <th>507107</th>\n",
       "      <td>50DA72F510E2F84A42712E13744FAC7B</td>\n",
       "      <td>EA9D03A766C1D32A6668FFF0C1EB4E4B</td>\n",
       "      <td>CMT</td>\n",
       "      <td>1</td>\n",
       "      <td>N</td>\n",
       "      <td>2013-08-04 18:42:17</td>\n",
       "      <td>2013-08-04 20:37:19</td>\n",
       "      <td>3</td>\n",
       "      <td>4290965</td>\n",
       "      <td>181.80</td>\n",
       "      <td>-73.978020</td>\n",
       "      <td>40.765167</td>\n",
       "      <td>-73.815041</td>\n",
       "      <td>40.730076</td>\n",
       "    </tr>\n",
       "    <tr>\n",
       "      <th>520570</th>\n",
       "      <td>68FADA2827FA3A1AB0FF32EC47F565EB</td>\n",
       "      <td>1E68C0830B73658C43635CAD45ECFDFA</td>\n",
       "      <td>CMT</td>\n",
       "      <td>0</td>\n",
       "      <td>N</td>\n",
       "      <td>2013-08-10 23:27:49</td>\n",
       "      <td>2013-08-10 23:27:49</td>\n",
       "      <td>1</td>\n",
       "      <td>0</td>\n",
       "      <td>57.70</td>\n",
       "      <td>-73.956726</td>\n",
       "      <td>40.767033</td>\n",
       "      <td>-73.956726</td>\n",
       "      <td>40.767033</td>\n",
       "    </tr>\n",
       "    <tr>\n",
       "      <th>548988</th>\n",
       "      <td>A978A0AAE9B2CFEE310FACD97A09C319</td>\n",
       "      <td>CE56A27F53ABF411094B6CD708BFBA96</td>\n",
       "      <td>CMT</td>\n",
       "      <td>1</td>\n",
       "      <td>N</td>\n",
       "      <td>2013-08-24 17:03:27</td>\n",
       "      <td>2013-08-24 17:03:29</td>\n",
       "      <td>1</td>\n",
       "      <td>1</td>\n",
       "      <td>442.00</td>\n",
       "      <td>-73.993896</td>\n",
       "      <td>40.702644</td>\n",
       "      <td>-73.993874</td>\n",
       "      <td>40.702637</td>\n",
       "    </tr>\n",
       "    <tr>\n",
       "      <th>558665</th>\n",
       "      <td>5A5C516A820FE476E9D3E14101B669AC</td>\n",
       "      <td>C24585AA866FC76A4E09A05F55DC7E54</td>\n",
       "      <td>CMT</td>\n",
       "      <td>2</td>\n",
       "      <td>N</td>\n",
       "      <td>2013-08-29 10:01:40</td>\n",
       "      <td>2013-08-29 11:52:20</td>\n",
       "      <td>1</td>\n",
       "      <td>6640</td>\n",
       "      <td>164.40</td>\n",
       "      <td>-73.791534</td>\n",
       "      <td>40.661026</td>\n",
       "      <td>-73.983734</td>\n",
       "      <td>40.765778</td>\n",
       "    </tr>\n",
       "    <tr>\n",
       "      <th>659208</th>\n",
       "      <td>E8E54922CFDFC480893C1E2021506CD4</td>\n",
       "      <td>BCCAFB9AB09496225A0FE39096FD72C0</td>\n",
       "      <td>VTS</td>\n",
       "      <td>1</td>\n",
       "      <td>NaN</td>\n",
       "      <td>2013-10-11 14:43:00</td>\n",
       "      <td>2013-10-11 16:27:00</td>\n",
       "      <td>1</td>\n",
       "      <td>6240</td>\n",
       "      <td>55.80</td>\n",
       "      <td>-73.776817</td>\n",
       "      <td>40.645065</td>\n",
       "      <td>-73.806770</td>\n",
       "      <td>40.659180</td>\n",
       "    </tr>\n",
       "    <tr>\n",
       "      <th>672612</th>\n",
       "      <td>9B14258B0E3EF13923996FB8537B2EA0</td>\n",
       "      <td>42834D2C6C221FDA7CDAE3AC95A981D3</td>\n",
       "      <td>VTS</td>\n",
       "      <td>2</td>\n",
       "      <td>NaN</td>\n",
       "      <td>2013-10-17 11:44:00</td>\n",
       "      <td>2013-10-17 13:58:00</td>\n",
       "      <td>5</td>\n",
       "      <td>8040</td>\n",
       "      <td>52.00</td>\n",
       "      <td>-73.790825</td>\n",
       "      <td>40.662148</td>\n",
       "      <td>-73.983200</td>\n",
       "      <td>40.745365</td>\n",
       "    </tr>\n",
       "  </tbody>\n",
       "</table>\n",
       "</div>"
      ],
      "text/plain": [
       "                               medallion                      hack_license  \\\n",
       "1853    DA2A0A9EBD9AFD25013CF83805B61D6D  A3BCE60F48302B63C4B7AAE443960704   \n",
       "6316    6BD1B641A1CD55803A21560299B985A7  A33DB5A909ADBFCE2AB057264141C8E9   \n",
       "8683    E95D27A43DC7A5F0C015409386BB49DB  8A6EB7FA7E6A3F4A50C717871C068D72   \n",
       "24381   A38882246FC6439948FA470459F94134  8A60E3668580091A4BB124E9BDAFDD89   \n",
       "54723   0F48C5AE255A294B4E88ECC3CED0CFC5  C92D893B061C29C152ADF42B15317C3E   \n",
       "90068   7B59F6023736C5217B613D17B4ED6A9C  F2D89276E3886C6A8D27AE463637FF36   \n",
       "115471  FB0FAE6EABFE14F45600AD382B52EFE5  0D39DD3359634605EAC8B451295E8186   \n",
       "119002  A51E7B7371667690E65D88307FBBA229  3A6EDD62A2933A11545527FDE55DAC52   \n",
       "134839  FA189EABBB4058AC0359AA1CF30F5313  C707B5A8C6AEF269564272AF66B37564   \n",
       "157050  C4580AE98B332B1E4B6B822B1C2D03BE  E2CB66B7D37105F7C3364DFF61E4D487   \n",
       "201876  DBCD64B365502F85569B4A264B798AAE  D404427B22B187FE0460668FDEC9937E   \n",
       "210667  BD4738379B8C2E8168F48CFFDE2F94E6  E6F2B8515FE5A32AACF884FBA21F0170   \n",
       "238505  4ADDFBA1E3FD055AB4854D003976F263  2B09130C92CF5199315044DFE89D6356   \n",
       "305690  A895384C359AABDA144AF574989DA1C3  CEEB6BCC5E4705A32043BCA2DBA78E3E   \n",
       "450941  849397BEC809E0CBF9FF645FE7FD96A8  BC7E6894AF102A345E3D050121FAA1F2   \n",
       "504497  7237EC7ABD6114EDDC87A3AA846F8418  D52502537E2DF62C9BFFECF5A387E7E9   \n",
       "507107  50DA72F510E2F84A42712E13744FAC7B  EA9D03A766C1D32A6668FFF0C1EB4E4B   \n",
       "520570  68FADA2827FA3A1AB0FF32EC47F565EB  1E68C0830B73658C43635CAD45ECFDFA   \n",
       "548988  A978A0AAE9B2CFEE310FACD97A09C319  CE56A27F53ABF411094B6CD708BFBA96   \n",
       "558665  5A5C516A820FE476E9D3E14101B669AC  C24585AA866FC76A4E09A05F55DC7E54   \n",
       "659208  E8E54922CFDFC480893C1E2021506CD4  BCCAFB9AB09496225A0FE39096FD72C0   \n",
       "672612  9B14258B0E3EF13923996FB8537B2EA0  42834D2C6C221FDA7CDAE3AC95A981D3   \n",
       "\n",
       "       vendor_id  rate_code store_and_fwd_flag     pickup_datetime  \\\n",
       "1853         CMT          1                  N 2013-01-01 21:41:03   \n",
       "6316         CMT          1                  N 2013-01-04 06:44:21   \n",
       "8683         CMT          1                  N 2013-01-05 01:51:08   \n",
       "24381        CMT          1                  N 2013-01-12 03:02:55   \n",
       "54723        CMT          5                  N 2013-01-24 21:07:13   \n",
       "90068        CMT          1                  N 2013-02-08 01:54:21   \n",
       "115471       CMT          1                  N 2013-02-18 19:52:08   \n",
       "119002       CMT          1                  N 2013-02-20 12:20:03   \n",
       "134839       CMT          1                  Y 2013-02-26 17:54:11   \n",
       "157050       VTS          2                NaN 2013-03-07 12:34:00   \n",
       "201876       CMT          1                  N 2013-03-25 09:30:28   \n",
       "210667       CMT          1                  N 2013-03-28 23:25:31   \n",
       "238505       CMT          1                  N 2013-04-09 15:10:48   \n",
       "305690       CMT          1                  N 2013-05-06 12:35:03   \n",
       "450941       CMT          1                  N 2013-07-09 13:51:02   \n",
       "504497       CMT          1                  N 2013-08-02 11:22:31   \n",
       "507107       CMT          1                  N 2013-08-04 18:42:17   \n",
       "520570       CMT          0                  N 2013-08-10 23:27:49   \n",
       "548988       CMT          1                  N 2013-08-24 17:03:27   \n",
       "558665       CMT          2                  N 2013-08-29 10:01:40   \n",
       "659208       VTS          1                NaN 2013-10-11 14:43:00   \n",
       "672612       VTS          2                NaN 2013-10-17 11:44:00   \n",
       "\n",
       "          dropoff_datetime  passenger_count  trip_time_in_secs  trip_distance  \\\n",
       "1853   2013-01-01 21:56:37                1                934          52.20   \n",
       "6316   2013-01-04 07:17:14                1               1973          96.30   \n",
       "8683   2013-01-05 02:23:01                1               1913          52.90   \n",
       "24381  2013-01-12 03:24:47                1               1312          66.20   \n",
       "54723  2013-01-24 21:31:44                1               1471          79.40   \n",
       "90068  2013-02-08 02:02:03                1                461          70.90   \n",
       "115471 2013-02-18 20:07:33                1                925          67.20   \n",
       "119002 2013-02-20 12:43:12                1               1389          87.90   \n",
       "134839 2013-02-26 18:45:03                1               3052          69.80   \n",
       "157050 2013-03-07 15:24:00                6              10200          60.14   \n",
       "201876 2013-03-25 10:07:32                2               2224          61.00   \n",
       "210667 2013-03-28 23:36:47                1                675          52.50   \n",
       "238505 2013-04-09 15:19:54                1                545          85.30   \n",
       "305690 2013-05-06 12:45:28                1                623          50.50   \n",
       "450941 2013-07-09 14:13:53                4               1371          88.00   \n",
       "504497 2013-08-02 11:33:03                1                631     6005123.00   \n",
       "507107 2013-08-04 20:37:19                3            4290965         181.80   \n",
       "520570 2013-08-10 23:27:49                1                  0          57.70   \n",
       "548988 2013-08-24 17:03:29                1                  1         442.00   \n",
       "558665 2013-08-29 11:52:20                1               6640         164.40   \n",
       "659208 2013-10-11 16:27:00                1               6240          55.80   \n",
       "672612 2013-10-17 13:58:00                5               8040          52.00   \n",
       "\n",
       "        pickup_longitude  pickup_latitude  dropoff_longitude  dropoff_latitude  \n",
       "1853          -73.979576        40.743626         -73.941902         40.807281  \n",
       "6316          -73.959785        40.762497         -73.962440         40.662910  \n",
       "8683          -74.006119        40.735157         -73.958694         40.714905  \n",
       "24381         -73.966873        40.683315         -73.916885         40.754852  \n",
       "54723         -73.885735        40.771580         -73.984947         40.758060  \n",
       "90068         -73.985512        40.742313         -73.993950         40.720837  \n",
       "115471        -73.874474        40.773975         -73.937866         40.723824  \n",
       "119002        -73.862915        40.769157         -73.973579         40.748199  \n",
       "134839        -73.989853        40.729340         -73.964035         40.771950  \n",
       "157050        -73.777405        40.646626         -73.982193         40.769535  \n",
       "201876        -73.988136        40.749702         -73.887688         40.859402  \n",
       "210667        -73.979370        40.766933         -73.992043         40.759903  \n",
       "238505        -73.979851        40.764091         -73.982155         40.777206  \n",
       "305690        -73.978287        40.773117         -73.978287         40.773117  \n",
       "450941        -73.987518        40.747070         -73.870758         40.772087  \n",
       "504497        -73.997467        40.736397         -73.991882         40.764629  \n",
       "507107        -73.978020        40.765167         -73.815041         40.730076  \n",
       "520570        -73.956726        40.767033         -73.956726         40.767033  \n",
       "548988        -73.993896        40.702644         -73.993874         40.702637  \n",
       "558665        -73.791534        40.661026         -73.983734         40.765778  \n",
       "659208        -73.776817        40.645065         -73.806770         40.659180  \n",
       "672612        -73.790825        40.662148         -73.983200         40.745365  "
      ]
     },
     "execution_count": 20,
     "metadata": {},
     "output_type": "execute_result"
    }
   ],
   "source": [
    "data.loc[data.trip_distance>50]"
   ]
  },
  {
   "cell_type": "code",
   "execution_count": 22,
   "metadata": {
    "collapsed": false
   },
   "outputs": [
    {
     "data": {
      "text/html": [
       "<div>\n",
       "<table border=\"1\" class=\"dataframe\">\n",
       "  <thead>\n",
       "    <tr style=\"text-align: right;\">\n",
       "      <th></th>\n",
       "      <th>trip_distance</th>\n",
       "      <th>trip_time_in_secs</th>\n",
       "    </tr>\n",
       "  </thead>\n",
       "  <tbody>\n",
       "    <tr>\n",
       "      <th>0</th>\n",
       "      <td>0.61</td>\n",
       "      <td>300</td>\n",
       "    </tr>\n",
       "    <tr>\n",
       "      <th>1</th>\n",
       "      <td>3.28</td>\n",
       "      <td>960</td>\n",
       "    </tr>\n",
       "    <tr>\n",
       "      <th>2</th>\n",
       "      <td>1.50</td>\n",
       "      <td>386</td>\n",
       "    </tr>\n",
       "  </tbody>\n",
       "</table>\n",
       "</div>"
      ],
      "text/plain": [
       "   trip_distance  trip_time_in_secs\n",
       "0           0.61                300\n",
       "1           3.28                960\n",
       "2           1.50                386"
      ]
     },
     "execution_count": 22,
     "metadata": {},
     "output_type": "execute_result"
    }
   ],
   "source": [
    "data[['trip_distance', 'trip_time_in_secs']].head(3)"
   ]
  },
  {
   "cell_type": "code",
   "execution_count": 23,
   "metadata": {
    "collapsed": false
   },
   "outputs": [
    {
     "data": {
      "text/html": [
       "<div>\n",
       "<table border=\"1\" class=\"dataframe\">\n",
       "  <thead>\n",
       "    <tr style=\"text-align: right;\">\n",
       "      <th></th>\n",
       "      <th>trip_distance</th>\n",
       "      <th>trip_time_in_secs</th>\n",
       "    </tr>\n",
       "  </thead>\n",
       "  <tbody>\n",
       "    <tr>\n",
       "      <th>1000</th>\n",
       "      <td>1.00</td>\n",
       "      <td>441</td>\n",
       "    </tr>\n",
       "    <tr>\n",
       "      <th>1010</th>\n",
       "      <td>3.80</td>\n",
       "      <td>691</td>\n",
       "    </tr>\n",
       "    <tr>\n",
       "      <th>1020</th>\n",
       "      <td>0.00</td>\n",
       "      <td>7</td>\n",
       "    </tr>\n",
       "    <tr>\n",
       "      <th>1030</th>\n",
       "      <td>4.20</td>\n",
       "      <td>902</td>\n",
       "    </tr>\n",
       "    <tr>\n",
       "      <th>1040</th>\n",
       "      <td>3.40</td>\n",
       "      <td>1278</td>\n",
       "    </tr>\n",
       "    <tr>\n",
       "      <th>1050</th>\n",
       "      <td>1.00</td>\n",
       "      <td>242</td>\n",
       "    </tr>\n",
       "    <tr>\n",
       "      <th>1060</th>\n",
       "      <td>1.48</td>\n",
       "      <td>300</td>\n",
       "    </tr>\n",
       "    <tr>\n",
       "      <th>1070</th>\n",
       "      <td>3.03</td>\n",
       "      <td>600</td>\n",
       "    </tr>\n",
       "    <tr>\n",
       "      <th>1080</th>\n",
       "      <td>0.60</td>\n",
       "      <td>135</td>\n",
       "    </tr>\n",
       "    <tr>\n",
       "      <th>1090</th>\n",
       "      <td>2.80</td>\n",
       "      <td>780</td>\n",
       "    </tr>\n",
       "    <tr>\n",
       "      <th>1100</th>\n",
       "      <td>2.62</td>\n",
       "      <td>840</td>\n",
       "    </tr>\n",
       "    <tr>\n",
       "      <th>1110</th>\n",
       "      <td>2.30</td>\n",
       "      <td>647</td>\n",
       "    </tr>\n",
       "    <tr>\n",
       "      <th>1120</th>\n",
       "      <td>1.30</td>\n",
       "      <td>360</td>\n",
       "    </tr>\n",
       "    <tr>\n",
       "      <th>1130</th>\n",
       "      <td>1.36</td>\n",
       "      <td>480</td>\n",
       "    </tr>\n",
       "    <tr>\n",
       "      <th>1140</th>\n",
       "      <td>2.90</td>\n",
       "      <td>720</td>\n",
       "    </tr>\n",
       "    <tr>\n",
       "      <th>1150</th>\n",
       "      <td>2.87</td>\n",
       "      <td>600</td>\n",
       "    </tr>\n",
       "    <tr>\n",
       "      <th>1160</th>\n",
       "      <td>2.70</td>\n",
       "      <td>491</td>\n",
       "    </tr>\n",
       "    <tr>\n",
       "      <th>1170</th>\n",
       "      <td>2.50</td>\n",
       "      <td>363</td>\n",
       "    </tr>\n",
       "    <tr>\n",
       "      <th>1180</th>\n",
       "      <td>1.11</td>\n",
       "      <td>360</td>\n",
       "    </tr>\n",
       "    <tr>\n",
       "      <th>1190</th>\n",
       "      <td>1.11</td>\n",
       "      <td>300</td>\n",
       "    </tr>\n",
       "    <tr>\n",
       "      <th>1200</th>\n",
       "      <td>0.90</td>\n",
       "      <td>240</td>\n",
       "    </tr>\n",
       "    <tr>\n",
       "      <th>1210</th>\n",
       "      <td>4.90</td>\n",
       "      <td>884</td>\n",
       "    </tr>\n",
       "    <tr>\n",
       "      <th>1220</th>\n",
       "      <td>2.84</td>\n",
       "      <td>960</td>\n",
       "    </tr>\n",
       "    <tr>\n",
       "      <th>1230</th>\n",
       "      <td>2.60</td>\n",
       "      <td>916</td>\n",
       "    </tr>\n",
       "    <tr>\n",
       "      <th>1240</th>\n",
       "      <td>17.00</td>\n",
       "      <td>2100</td>\n",
       "    </tr>\n",
       "    <tr>\n",
       "      <th>1250</th>\n",
       "      <td>4.00</td>\n",
       "      <td>900</td>\n",
       "    </tr>\n",
       "    <tr>\n",
       "      <th>1260</th>\n",
       "      <td>0.63</td>\n",
       "      <td>120</td>\n",
       "    </tr>\n",
       "    <tr>\n",
       "      <th>1270</th>\n",
       "      <td>4.40</td>\n",
       "      <td>773</td>\n",
       "    </tr>\n",
       "    <tr>\n",
       "      <th>1280</th>\n",
       "      <td>1.10</td>\n",
       "      <td>319</td>\n",
       "    </tr>\n",
       "    <tr>\n",
       "      <th>1290</th>\n",
       "      <td>1.42</td>\n",
       "      <td>240</td>\n",
       "    </tr>\n",
       "    <tr>\n",
       "      <th>...</th>\n",
       "      <td>...</td>\n",
       "      <td>...</td>\n",
       "    </tr>\n",
       "    <tr>\n",
       "      <th>1710</th>\n",
       "      <td>1.00</td>\n",
       "      <td>240</td>\n",
       "    </tr>\n",
       "    <tr>\n",
       "      <th>1720</th>\n",
       "      <td>1.30</td>\n",
       "      <td>388</td>\n",
       "    </tr>\n",
       "    <tr>\n",
       "      <th>1730</th>\n",
       "      <td>0.31</td>\n",
       "      <td>120</td>\n",
       "    </tr>\n",
       "    <tr>\n",
       "      <th>1740</th>\n",
       "      <td>2.80</td>\n",
       "      <td>423</td>\n",
       "    </tr>\n",
       "    <tr>\n",
       "      <th>1750</th>\n",
       "      <td>1.60</td>\n",
       "      <td>591</td>\n",
       "    </tr>\n",
       "    <tr>\n",
       "      <th>1760</th>\n",
       "      <td>1.24</td>\n",
       "      <td>300</td>\n",
       "    </tr>\n",
       "    <tr>\n",
       "      <th>1770</th>\n",
       "      <td>1.80</td>\n",
       "      <td>457</td>\n",
       "    </tr>\n",
       "    <tr>\n",
       "      <th>1780</th>\n",
       "      <td>4.47</td>\n",
       "      <td>1320</td>\n",
       "    </tr>\n",
       "    <tr>\n",
       "      <th>1790</th>\n",
       "      <td>3.50</td>\n",
       "      <td>627</td>\n",
       "    </tr>\n",
       "    <tr>\n",
       "      <th>1800</th>\n",
       "      <td>0.80</td>\n",
       "      <td>196</td>\n",
       "    </tr>\n",
       "    <tr>\n",
       "      <th>1810</th>\n",
       "      <td>2.86</td>\n",
       "      <td>420</td>\n",
       "    </tr>\n",
       "    <tr>\n",
       "      <th>1820</th>\n",
       "      <td>1.02</td>\n",
       "      <td>180</td>\n",
       "    </tr>\n",
       "    <tr>\n",
       "      <th>1830</th>\n",
       "      <td>4.59</td>\n",
       "      <td>840</td>\n",
       "    </tr>\n",
       "    <tr>\n",
       "      <th>1840</th>\n",
       "      <td>1.79</td>\n",
       "      <td>240</td>\n",
       "    </tr>\n",
       "    <tr>\n",
       "      <th>1850</th>\n",
       "      <td>0.33</td>\n",
       "      <td>120</td>\n",
       "    </tr>\n",
       "    <tr>\n",
       "      <th>1860</th>\n",
       "      <td>1.50</td>\n",
       "      <td>355</td>\n",
       "    </tr>\n",
       "    <tr>\n",
       "      <th>1870</th>\n",
       "      <td>0.97</td>\n",
       "      <td>360</td>\n",
       "    </tr>\n",
       "    <tr>\n",
       "      <th>1880</th>\n",
       "      <td>0.96</td>\n",
       "      <td>240</td>\n",
       "    </tr>\n",
       "    <tr>\n",
       "      <th>1890</th>\n",
       "      <td>1.39</td>\n",
       "      <td>300</td>\n",
       "    </tr>\n",
       "    <tr>\n",
       "      <th>1900</th>\n",
       "      <td>0.60</td>\n",
       "      <td>204</td>\n",
       "    </tr>\n",
       "    <tr>\n",
       "      <th>1910</th>\n",
       "      <td>1.40</td>\n",
       "      <td>901</td>\n",
       "    </tr>\n",
       "    <tr>\n",
       "      <th>1920</th>\n",
       "      <td>1.65</td>\n",
       "      <td>480</td>\n",
       "    </tr>\n",
       "    <tr>\n",
       "      <th>1930</th>\n",
       "      <td>2.75</td>\n",
       "      <td>660</td>\n",
       "    </tr>\n",
       "    <tr>\n",
       "      <th>1940</th>\n",
       "      <td>0.90</td>\n",
       "      <td>248</td>\n",
       "    </tr>\n",
       "    <tr>\n",
       "      <th>1950</th>\n",
       "      <td>1.33</td>\n",
       "      <td>420</td>\n",
       "    </tr>\n",
       "    <tr>\n",
       "      <th>1960</th>\n",
       "      <td>7.70</td>\n",
       "      <td>883</td>\n",
       "    </tr>\n",
       "    <tr>\n",
       "      <th>1970</th>\n",
       "      <td>2.71</td>\n",
       "      <td>660</td>\n",
       "    </tr>\n",
       "    <tr>\n",
       "      <th>1980</th>\n",
       "      <td>2.30</td>\n",
       "      <td>360</td>\n",
       "    </tr>\n",
       "    <tr>\n",
       "      <th>1990</th>\n",
       "      <td>0.13</td>\n",
       "      <td>60</td>\n",
       "    </tr>\n",
       "    <tr>\n",
       "      <th>2000</th>\n",
       "      <td>9.60</td>\n",
       "      <td>963</td>\n",
       "    </tr>\n",
       "  </tbody>\n",
       "</table>\n",
       "<p>101 rows × 2 columns</p>\n",
       "</div>"
      ],
      "text/plain": [
       "      trip_distance  trip_time_in_secs\n",
       "1000           1.00                441\n",
       "1010           3.80                691\n",
       "1020           0.00                  7\n",
       "1030           4.20                902\n",
       "1040           3.40               1278\n",
       "1050           1.00                242\n",
       "1060           1.48                300\n",
       "1070           3.03                600\n",
       "1080           0.60                135\n",
       "1090           2.80                780\n",
       "1100           2.62                840\n",
       "1110           2.30                647\n",
       "1120           1.30                360\n",
       "1130           1.36                480\n",
       "1140           2.90                720\n",
       "1150           2.87                600\n",
       "1160           2.70                491\n",
       "1170           2.50                363\n",
       "1180           1.11                360\n",
       "1190           1.11                300\n",
       "1200           0.90                240\n",
       "1210           4.90                884\n",
       "1220           2.84                960\n",
       "1230           2.60                916\n",
       "1240          17.00               2100\n",
       "1250           4.00                900\n",
       "1260           0.63                120\n",
       "1270           4.40                773\n",
       "1280           1.10                319\n",
       "1290           1.42                240\n",
       "...             ...                ...\n",
       "1710           1.00                240\n",
       "1720           1.30                388\n",
       "1730           0.31                120\n",
       "1740           2.80                423\n",
       "1750           1.60                591\n",
       "1760           1.24                300\n",
       "1770           1.80                457\n",
       "1780           4.47               1320\n",
       "1790           3.50                627\n",
       "1800           0.80                196\n",
       "1810           2.86                420\n",
       "1820           1.02                180\n",
       "1830           4.59                840\n",
       "1840           1.79                240\n",
       "1850           0.33                120\n",
       "1860           1.50                355\n",
       "1870           0.97                360\n",
       "1880           0.96                240\n",
       "1890           1.39                300\n",
       "1900           0.60                204\n",
       "1910           1.40                901\n",
       "1920           1.65                480\n",
       "1930           2.75                660\n",
       "1940           0.90                248\n",
       "1950           1.33                420\n",
       "1960           7.70                883\n",
       "1970           2.71                660\n",
       "1980           2.30                360\n",
       "1990           0.13                 60\n",
       "2000           9.60                963\n",
       "\n",
       "[101 rows x 2 columns]"
      ]
     },
     "execution_count": 23,
     "metadata": {},
     "output_type": "execute_result"
    }
   ],
   "source": [
    "data.loc[1000:2000:10,['trip_distance', 'trip_time_in_secs']]"
   ]
  },
  {
   "cell_type": "code",
   "execution_count": 24,
   "metadata": {
    "collapsed": true
   },
   "outputs": [],
   "source": [
    "from ipywidgets import interact"
   ]
  },
  {
   "cell_type": "code",
   "execution_count": 25,
   "metadata": {
    "collapsed": false
   },
   "outputs": [
    {
     "data": {
      "text/plain": [
       "7"
      ]
     },
     "metadata": {},
     "output_type": "display_data"
    }
   ],
   "source": [
    "@interact\n",
    "def show_nrows(distance_threshold=(0, 200)):\n",
    "    return len(data.loc[data.trip_distance >distance_threshold])"
   ]
  },
  {
   "cell_type": "code",
   "execution_count": 26,
   "metadata": {
    "collapsed": true
   },
   "outputs": [],
   "source": [
    "data['trip_time_in_mins'] = data.trip_time_in_secs / 60.0"
   ]
  },
  {
   "cell_type": "code",
   "execution_count": 27,
   "metadata": {
    "collapsed": false
   },
   "outputs": [
    {
     "data": {
      "text/plain": [
       "0    0.61\n",
       "1    3.28\n",
       "2    1.50\n",
       "3    0.00\n",
       "4    1.31\n",
       "Name: trip_distance, dtype: float64"
      ]
     },
     "execution_count": 27,
     "metadata": {},
     "output_type": "execute_result"
    }
   ],
   "source": [
    "a = data.trip_distance[:5]\n",
    "a\n"
   ]
  },
  {
   "cell_type": "code",
   "execution_count": 28,
   "metadata": {
    "collapsed": false
   },
   "outputs": [
    {
     "data": {
      "text/plain": [
       "2    1.50\n",
       "3    0.00\n",
       "4    1.31\n",
       "5    5.81\n",
       "Name: trip_distance, dtype: float64"
      ]
     },
     "execution_count": 28,
     "metadata": {},
     "output_type": "execute_result"
    }
   ],
   "source": [
    "b = data.trip_distance[2:6]\n",
    "b"
   ]
  },
  {
   "cell_type": "code",
   "execution_count": 29,
   "metadata": {
    "collapsed": false
   },
   "outputs": [
    {
     "data": {
      "text/plain": [
       "0     NaN\n",
       "1     NaN\n",
       "2    3.00\n",
       "3    0.00\n",
       "4    2.62\n",
       "5     NaN\n",
       "Name: trip_distance, dtype: float64"
      ]
     },
     "execution_count": 29,
     "metadata": {},
     "output_type": "execute_result"
    }
   ],
   "source": [
    "a+b"
   ]
  },
  {
   "cell_type": "code",
   "execution_count": 30,
   "metadata": {
    "collapsed": false
   },
   "outputs": [
    {
     "data": {
      "text/plain": [
       "0    76942C3205E17D7E7FE5A9F709D16434\n",
       "1    517C6B330DBB3F055D007B07512628B3\n",
       "2    ED15611F168E41B33619C83D900FE266\n",
       "Name: medallion, dtype: object"
      ]
     },
     "execution_count": 30,
     "metadata": {},
     "output_type": "execute_result"
    }
   ],
   "source": [
    "data.medallion.head(3)"
   ]
  },
  {
   "cell_type": "code",
   "execution_count": 31,
   "metadata": {
    "collapsed": false
   },
   "outputs": [
    {
     "data": {
      "text/plain": [
       "0    7694\n",
       "1    517C\n",
       "2    ED15\n",
       "Name: medallion, dtype: object"
      ]
     },
     "execution_count": 31,
     "metadata": {},
     "output_type": "execute_result"
    }
   ],
   "source": [
    "data.medallion.str.slice(0, 4).head(3)"
   ]
  },
  {
   "cell_type": "code",
   "execution_count": 32,
   "metadata": {
    "collapsed": false
   },
   "outputs": [
    {
     "data": {
      "text/plain": [
       "0         1\n",
       "200000    6\n",
       "400000    5\n",
       "600000    0\n",
       "800000    1\n",
       "dtype: int64"
      ]
     },
     "execution_count": 32,
     "metadata": {},
     "output_type": "execute_result"
    }
   ],
   "source": [
    "data.pickup_datetime.dt.dayofweek[::200000]"
   ]
  },
  {
   "cell_type": "code",
   "execution_count": 33,
   "metadata": {
    "collapsed": false
   },
   "outputs": [
    {
     "name": "stdout",
     "output_type": "stream",
     "text": [
      "7716\n"
     ]
    },
    {
     "data": {
      "text/html": [
       "<div>\n",
       "<table border=\"1\" class=\"dataframe\">\n",
       "  <thead>\n",
       "    <tr style=\"text-align: right;\">\n",
       "      <th></th>\n",
       "      <th>medallion</th>\n",
       "      <th>hack_license</th>\n",
       "      <th>vendor_id</th>\n",
       "      <th>rate_code</th>\n",
       "      <th>store_and_fwd_flag</th>\n",
       "      <th>pickup_datetime</th>\n",
       "      <th>dropoff_datetime</th>\n",
       "      <th>passenger_count</th>\n",
       "      <th>trip_time_in_secs</th>\n",
       "      <th>trip_distance</th>\n",
       "      <th>pickup_longitude</th>\n",
       "      <th>pickup_latitude</th>\n",
       "      <th>dropoff_longitude</th>\n",
       "      <th>dropoff_latitude</th>\n",
       "      <th>trip_time_in_mins</th>\n",
       "    </tr>\n",
       "  </thead>\n",
       "  <tbody>\n",
       "    <tr>\n",
       "      <th>2005</th>\n",
       "      <td>6385CA8C99985BFBAFB477A9BDFA28C9</td>\n",
       "      <td>08A78365909D2F09BF72B869C0B21FED</td>\n",
       "      <td>VTS</td>\n",
       "      <td>1</td>\n",
       "      <td>NaN</td>\n",
       "      <td>2013-01-01 23:45:00</td>\n",
       "      <td>2013-01-02 00:03:00</td>\n",
       "      <td>1</td>\n",
       "      <td>1080</td>\n",
       "      <td>12.61</td>\n",
       "      <td>-73.873062</td>\n",
       "      <td>40.774128</td>\n",
       "      <td>-73.983597</td>\n",
       "      <td>40.721539</td>\n",
       "      <td>18.000000</td>\n",
       "    </tr>\n",
       "    <tr>\n",
       "      <th>2008</th>\n",
       "      <td>D932DC772B89F69D30F03FB095424F97</td>\n",
       "      <td>F5AE2E36090433DFE4142AFC19AFD495</td>\n",
       "      <td>CMT</td>\n",
       "      <td>1</td>\n",
       "      <td>N</td>\n",
       "      <td>2013-01-01 23:46:22</td>\n",
       "      <td>2013-01-02 00:28:01</td>\n",
       "      <td>1</td>\n",
       "      <td>2498</td>\n",
       "      <td>16.10</td>\n",
       "      <td>-73.781921</td>\n",
       "      <td>40.644657</td>\n",
       "      <td>-73.998512</td>\n",
       "      <td>40.660194</td>\n",
       "      <td>41.633333</td>\n",
       "    </tr>\n",
       "    <tr>\n",
       "      <th>2010</th>\n",
       "      <td>33BB4B9DBFD87B7522909FEEB84896F4</td>\n",
       "      <td>412253C6258AF9DCE2D27DE714A84049</td>\n",
       "      <td>CMT</td>\n",
       "      <td>1</td>\n",
       "      <td>N</td>\n",
       "      <td>2013-01-01 23:46:53</td>\n",
       "      <td>2013-01-02 00:03:33</td>\n",
       "      <td>1</td>\n",
       "      <td>1000</td>\n",
       "      <td>5.40</td>\n",
       "      <td>-74.001274</td>\n",
       "      <td>40.725952</td>\n",
       "      <td>-73.980347</td>\n",
       "      <td>40.660503</td>\n",
       "      <td>16.666667</td>\n",
       "    </tr>\n",
       "  </tbody>\n",
       "</table>\n",
       "</div>"
      ],
      "text/plain": [
       "                             medallion                      hack_license  \\\n",
       "2005  6385CA8C99985BFBAFB477A9BDFA28C9  08A78365909D2F09BF72B869C0B21FED   \n",
       "2008  D932DC772B89F69D30F03FB095424F97  F5AE2E36090433DFE4142AFC19AFD495   \n",
       "2010  33BB4B9DBFD87B7522909FEEB84896F4  412253C6258AF9DCE2D27DE714A84049   \n",
       "\n",
       "     vendor_id  rate_code store_and_fwd_flag     pickup_datetime  \\\n",
       "2005       VTS          1                NaN 2013-01-01 23:45:00   \n",
       "2008       CMT          1                  N 2013-01-01 23:46:22   \n",
       "2010       CMT          1                  N 2013-01-01 23:46:53   \n",
       "\n",
       "        dropoff_datetime  passenger_count  trip_time_in_secs  trip_distance  \\\n",
       "2005 2013-01-02 00:03:00                1               1080          12.61   \n",
       "2008 2013-01-02 00:28:01                1               2498          16.10   \n",
       "2010 2013-01-02 00:03:33                1               1000           5.40   \n",
       "\n",
       "      pickup_longitude  pickup_latitude  dropoff_longitude  dropoff_latitude  \\\n",
       "2005        -73.873062        40.774128         -73.983597         40.721539   \n",
       "2008        -73.781921        40.644657         -73.998512         40.660194   \n",
       "2010        -74.001274        40.725952         -73.980347         40.660503   \n",
       "\n",
       "      trip_time_in_mins  \n",
       "2005          18.000000  \n",
       "2008          41.633333  \n",
       "2010          16.666667  "
      ]
     },
     "execution_count": 33,
     "metadata": {},
     "output_type": "execute_result"
    }
   ],
   "source": [
    "day_p = data.pickup_datetime.dt.day\n",
    "day_d = data.dropoff_datetime.dt.day\n",
    "selection = (day_p != day_d)\n",
    "print(len(data.loc[selection]))\n",
    "data.loc[selection].head(3)"
   ]
  },
  {
   "cell_type": "code",
   "execution_count": 34,
   "metadata": {
    "collapsed": true
   },
   "outputs": [],
   "source": [
    "weekly = data.groupby(data.pickup_datetime.dt.weekofyear)"
   ]
  },
  {
   "cell_type": "code",
   "execution_count": 35,
   "metadata": {
    "collapsed": false
   },
   "outputs": [
    {
     "data": {
      "text/plain": [
       "52"
      ]
     },
     "execution_count": 35,
     "metadata": {},
     "output_type": "execute_result"
    }
   ],
   "source": [
    " len(weekly)"
   ]
  },
  {
   "cell_type": "code",
   "execution_count": 36,
   "metadata": {
    "collapsed": true
   },
   "outputs": [],
   "source": [
    "y = weekly.size()"
   ]
  },
  {
   "cell_type": "code",
   "execution_count": 37,
   "metadata": {
    "collapsed": false
   },
   "outputs": [
    {
     "data": {
      "text/plain": [
       "1    17042\n",
       "2    15941\n",
       "3    17017\n",
       "dtype: int64"
      ]
     },
     "execution_count": 37,
     "metadata": {},
     "output_type": "execute_result"
    }
   ],
   "source": [
    "y.head(3)"
   ]
  },
  {
   "cell_type": "code",
   "execution_count": 38,
   "metadata": {
    "collapsed": true
   },
   "outputs": [],
   "source": [
    "x = weekly.pickup_datetime.first()"
   ]
  },
  {
   "cell_type": "code",
   "execution_count": 39,
   "metadata": {
    "collapsed": false
   },
   "outputs": [
    {
     "data": {
      "text/plain": [
       "1   2013-01-01 00:00:00\n",
       "2   2013-01-07 00:03:00\n",
       "3   2013-01-14 00:00:51\n",
       "Name: pickup_datetime, dtype: datetime64[ns]"
      ]
     },
     "execution_count": 39,
     "metadata": {},
     "output_type": "execute_result"
    }
   ],
   "source": [
    "x.head(3)"
   ]
  },
  {
   "cell_type": "code",
   "execution_count": 40,
   "metadata": {
    "collapsed": false
   },
   "outputs": [
    {
     "data": {
      "text/plain": [
       "<matplotlib.text.Text at 0x113bc8080>"
      ]
     },
     "execution_count": 40,
     "metadata": {},
     "output_type": "execute_result"
    },
    {
     "data": {
      "image/png": "[encoded data removed]",
      "text/plain": [
       "<matplotlib.figure.Figure at 0x113bb3438>"
      ]
     },
     "metadata": {},
     "output_type": "display_data"
    }
   ],
   "source": [
    "pd.Series(y.values, index=x).plot()\n",
    "plt.ylim(0)  # Set the lower y value to 0.\n",
    "plt.xlabel('Week')  # Label of the x axis.\n",
    "plt.ylabel('Taxi rides')  # Label of the y axis."
   ]
  },
  {
   "cell_type": "code",
   "execution_count": 41,
   "metadata": {
    "collapsed": false
   },
   "outputs": [
    {
     "name": "stdout",
     "output_type": "stream",
     "text": [
      "13407\n"
     ]
    },
    {
     "data": {
      "text/html": [
       "<div>\n",
       "<table border=\"1\" class=\"dataframe\">\n",
       "  <thead>\n",
       "    <tr style=\"text-align: right;\">\n",
       "      <th></th>\n",
       "      <th>tip_amount</th>\n",
       "    </tr>\n",
       "    <tr>\n",
       "      <th>medallion</th>\n",
       "      <th></th>\n",
       "    </tr>\n",
       "  </thead>\n",
       "  <tbody>\n",
       "    <tr>\n",
       "      <th>00005007A9F30E289E760362F69E4EAD</th>\n",
       "      <td>1.815854</td>\n",
       "    </tr>\n",
       "    <tr>\n",
       "      <th>000318C2E3E6381580E5C99910A60668</th>\n",
       "      <td>2.857222</td>\n",
       "    </tr>\n",
       "    <tr>\n",
       "      <th>000351EDC735C079246435340A54C7C1</th>\n",
       "      <td>2.099111</td>\n",
       "    </tr>\n",
       "  </tbody>\n",
       "</table>\n",
       "</div>"
      ],
      "text/plain": [
       "                                  tip_amount\n",
       "medallion                                   \n",
       "00005007A9F30E289E760362F69E4EAD    1.815854\n",
       "000318C2E3E6381580E5C99910A60668    2.857222\n",
       "000351EDC735C079246435340A54C7C1    2.099111"
      ]
     },
     "execution_count": 41,
     "metadata": {},
     "output_type": "execute_result"
    }
   ],
   "source": [
    "tip = fare[['medallion', 'tip_amount']].loc[fare.tip_amount>0].groupby('medallion').mean()\n",
    "print(len(tip))\n",
    "tip.head(3)"
   ]
  },
  {
   "cell_type": "code",
   "execution_count": 42,
   "metadata": {
    "collapsed": false
   },
   "outputs": [
    {
     "data": {
      "text/plain": [
       "<matplotlib.text.Text at 0x1147c4c18>"
      ]
     },
     "execution_count": 42,
     "metadata": {},
     "output_type": "execute_result"
    },
    {
     "data": {
      "image/png": "[encoded data removed]",
      "text/plain": [
       "<matplotlib.figure.Figure at 0x113bb1390>"
      ]
     },
     "metadata": {},
     "output_type": "display_data"
    }
   ],
   "source": [
    "tip.hist(bins=np.linspace(0., 6., 100))\n",
    "plt.xlabel('Average tip')\n",
    "plt.ylabel('Number of taxis')"
   ]
  },
  {
   "cell_type": "code",
   "execution_count": 44,
   "metadata": {
    "collapsed": false
   },
   "outputs": [
    {
     "data": {
      "text/html": [
       "<div>\n",
       "<table border=\"1\" class=\"dataframe\">\n",
       "  <thead>\n",
       "    <tr style=\"text-align: right;\">\n",
       "      <th></th>\n",
       "      <th>medallion</th>\n",
       "      <th>hack_license</th>\n",
       "      <th>vendor_id</th>\n",
       "      <th>rate_code</th>\n",
       "      <th>store_and_fwd_flag</th>\n",
       "      <th>pickup_datetime</th>\n",
       "      <th>dropoff_datetime</th>\n",
       "      <th>passenger_count</th>\n",
       "      <th>trip_time_in_secs</th>\n",
       "      <th>trip_distance</th>\n",
       "      <th>pickup_longitude</th>\n",
       "      <th>pickup_latitude</th>\n",
       "      <th>dropoff_longitude</th>\n",
       "      <th>dropoff_latitude</th>\n",
       "      <th>trip_time_in_mins</th>\n",
       "      <th>tip_amount</th>\n",
       "    </tr>\n",
       "  </thead>\n",
       "  <tbody>\n",
       "    <tr>\n",
       "      <th>0</th>\n",
       "      <td>76942C3205E17D7E7FE5A9F709D16434</td>\n",
       "      <td>25BA06A87905667AA1FE5990E33F0E2E</td>\n",
       "      <td>VTS</td>\n",
       "      <td>1</td>\n",
       "      <td>NaN</td>\n",
       "      <td>2013-01-01 00:00:00</td>\n",
       "      <td>2013-01-01 00:05:00</td>\n",
       "      <td>3</td>\n",
       "      <td>300</td>\n",
       "      <td>0.61</td>\n",
       "      <td>-73.955925</td>\n",
       "      <td>40.781887</td>\n",
       "      <td>-73.963181</td>\n",
       "      <td>40.777832</td>\n",
       "      <td>5.000000</td>\n",
       "      <td>3.180417</td>\n",
       "    </tr>\n",
       "    <tr>\n",
       "      <th>1</th>\n",
       "      <td>517C6B330DBB3F055D007B07512628B3</td>\n",
       "      <td>2C19FBEE1A6E05612EFE4C958C14BC7F</td>\n",
       "      <td>VTS</td>\n",
       "      <td>1</td>\n",
       "      <td>NaN</td>\n",
       "      <td>2013-01-01 00:05:00</td>\n",
       "      <td>2013-01-01 00:21:00</td>\n",
       "      <td>1</td>\n",
       "      <td>960</td>\n",
       "      <td>3.28</td>\n",
       "      <td>-74.005501</td>\n",
       "      <td>40.745735</td>\n",
       "      <td>-73.964943</td>\n",
       "      <td>40.755722</td>\n",
       "      <td>16.000000</td>\n",
       "      <td>2.863235</td>\n",
       "    </tr>\n",
       "    <tr>\n",
       "      <th>2</th>\n",
       "      <td>ED15611F168E41B33619C83D900FE266</td>\n",
       "      <td>754AEBD7C80DA17BA1D81D89FB6F4D1D</td>\n",
       "      <td>CMT</td>\n",
       "      <td>1</td>\n",
       "      <td>N</td>\n",
       "      <td>2013-01-01 00:05:52</td>\n",
       "      <td>2013-01-01 00:12:18</td>\n",
       "      <td>1</td>\n",
       "      <td>386</td>\n",
       "      <td>1.50</td>\n",
       "      <td>-73.969955</td>\n",
       "      <td>40.799770</td>\n",
       "      <td>-73.954567</td>\n",
       "      <td>40.787392</td>\n",
       "      <td>6.433333</td>\n",
       "      <td>2.147143</td>\n",
       "    </tr>\n",
       "  </tbody>\n",
       "</table>\n",
       "</div>"
      ],
      "text/plain": [
       "                          medallion                      hack_license  \\\n",
       "0  76942C3205E17D7E7FE5A9F709D16434  25BA06A87905667AA1FE5990E33F0E2E   \n",
       "1  517C6B330DBB3F055D007B07512628B3  2C19FBEE1A6E05612EFE4C958C14BC7F   \n",
       "2  ED15611F168E41B33619C83D900FE266  754AEBD7C80DA17BA1D81D89FB6F4D1D   \n",
       "\n",
       "  vendor_id  rate_code store_and_fwd_flag     pickup_datetime  \\\n",
       "0       VTS          1                NaN 2013-01-01 00:00:00   \n",
       "1       VTS          1                NaN 2013-01-01 00:05:00   \n",
       "2       CMT          1                  N 2013-01-01 00:05:52   \n",
       "\n",
       "     dropoff_datetime  passenger_count  trip_time_in_secs  trip_distance  \\\n",
       "0 2013-01-01 00:05:00                3                300           0.61   \n",
       "1 2013-01-01 00:21:00                1                960           3.28   \n",
       "2 2013-01-01 00:12:18                1                386           1.50   \n",
       "\n",
       "   pickup_longitude  pickup_latitude  dropoff_longitude  dropoff_latitude  \\\n",
       "0        -73.955925        40.781887         -73.963181         40.777832   \n",
       "1        -74.005501        40.745735         -73.964943         40.755722   \n",
       "2        -73.969955        40.799770         -73.954567         40.787392   \n",
       "\n",
       "   trip_time_in_mins  tip_amount  \n",
       "0           5.000000    3.180417  \n",
       "1          16.000000    2.863235  \n",
       "2           6.433333    2.147143  "
      ]
     },
     "execution_count": 44,
     "metadata": {},
     "output_type": "execute_result"
    }
   ],
   "source": [
    "data_merged = pd.merge(data, tip, how='left',left_on='medallion', right_index=True)\n",
    "data_merged.head(3)"
   ]
  },
  {
   "cell_type": "code",
   "execution_count": null,
   "metadata": {
    "collapsed": true
   },
   "outputs": [],
   "source": []
  }
 ],
 "metadata": {
  "kernelspec": {
   "display_name": "Python 3",
   "language": "python",
   "name": "python3"
  },
  "language_info": {
   "codemirror_mode": {
    "name": "ipython",
    "version": 3
   },
   "file_extension": ".py",
   "mimetype": "text/x-python",
   "name": "python",
   "nbconvert_exporter": "python",
   "pygments_lexer": "ipython3",
   "version": "3.4.5"
  },
  "latex_envs": {
   "bibliofile": "biblio.bib",
   "cite_by": "apalike",
   "current_citInitial": 1,
   "eqLabelWithNumbers": true,
   "eqNumInitial": 0
  }
 },
 "nbformat": 4,
 "nbformat_minor": 0
}
