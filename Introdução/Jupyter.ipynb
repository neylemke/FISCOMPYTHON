{
 "cells": [
  {
   "cell_type": "markdown",
   "metadata": {},
   "source": [
    "# Jupyter\n",
    "\n",
    "- História\n",
    "- Elementos da Interface\n",
    "- Markdown\n",
    "- $\\LaTeX$\n",
    "- Slides"
   ]
  },
  {
   "cell_type": "markdown",
   "metadata": {},
   "source": [
    "# Interface do Jupyter\n",
    "\n",
    "Existem dois modos de Teclado:\n",
    "\n",
    "- *Comando* acessível por ESC (Célula em Azul)\n",
    "- *Edição* acessível por ENTER (Célula em Verde) \n",
    "\n",
    "A lista completa pode ser obtida na parte superior da interface no Teclado.\n"
   ]
  },
  {
   "cell_type": "markdown",
   "metadata": {},
   "source": [
    "# Markdown"
   ]
  }
 ],
 "metadata": {
  "kernelspec": {
   "display_name": "Python 3",
   "language": "python",
   "name": "python3"
  },
  "language_info": {
   "codemirror_mode": {
    "name": "ipython",
    "version": 3
   },
   "file_extension": ".py",
   "mimetype": "text/x-python",
   "name": "python",
   "nbconvert_exporter": "python",
   "pygments_lexer": "ipython3",
   "version": "3.5.2"
  }
 },
 "nbformat": 4,
 "nbformat_minor": 2
}
