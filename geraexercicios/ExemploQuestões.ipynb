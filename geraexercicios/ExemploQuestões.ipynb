{
 "cells": [
  {
   "cell_type": "code",
   "execution_count": 1,
   "metadata": {
    "ExecuteTime": {
     "end_time": "2017-04-30T19:41:33.760550",
     "start_time": "2017-04-30T19:41:33.757040Z"
    },
    "collapsed": true,
    "run_control": {
     "frozen": false,
     "read_only": false
    }
   },
   "outputs": [],
   "source": [
    "import ipywidgets as widgets\n",
    "from IPython.display import display\n",
    "import pickle\n",
    "import datetime\n",
    "import pandas as pd\n",
    "import random"
   ]
  },
  {
   "cell_type": "code",
   "execution_count": 6,
   "metadata": {
    "ExecuteTime": {
     "end_time": "2017-04-30T19:41:34.652161",
     "start_time": "2017-04-30T19:41:34.642912Z"
    },
    "run_control": {
     "frozen": false,
     "read_only": false
    }
   },
   "outputs": [],
   "source": [
    "userdata=[]\n",
    "box_layout = widgets.Layout(\n",
    "                    border='2px solid black',\n",
    "                    width= '700px',\n",
    "                  #  height='1500px',\n",
    "                    display='flex')\n",
    "box_layout_short = widgets.Layout(\n",
    "                    border='2px solid black'\n",
    "                    )"
   ]
  },
  {
   "cell_type": "code",
   "execution_count": 7,
   "metadata": {
    "ExecuteTime": {
     "end_time": "2017-04-30T19:41:35.629660",
     "start_time": "2017-04-30T19:41:35.579103Z"
    },
    "code_folding": [
     13
    ],
    "collapsed": true,
    "run_control": {
     "frozen": false,
     "read_only": false
    }
   },
   "outputs": [],
   "source": [
    "def geraquestoes(filename):\n",
    "    import os;\n",
    "    os.system(\"python \"+filename+\".pyc\")\n",
    "    with open(filename+\".pickle\", 'rb') as f:\n",
    "    # The protocol version used is detected automatically, so we do not\n",
    "    # have to specify it.\n",
    "         return pickle.load(f)\n",
    "def gerawquestao(data):\n",
    "    global ans\n",
    "    ans=widgets.RadioButtons(\n",
    "        options=data['alternativas'],\n",
    "        value=random.choice(data['alternativas']),\n",
    "        description='Resposta:',\n",
    "        disabled=False )\n",
    "    text=widgets.HTMLMath(\n",
    "        value=data['enunciado'],\n",
    "        placeholder='Some HTML',\n",
    "        description='Pergunta:',\n",
    "        disabled=False )\n",
    "    return widgets.VBox([text,ans])\n",
    "def on_novo_clicked(b):\n",
    "    global userdata,filename\n",
    "    lisex=['ex1','ex2','ex3','ex4']\n",
    "    filename=random.choice(lisex)\n",
    "    display(widgetinterface(filename))\n",
    "    begin=datetime.datetime.now()\n",
    "    userdata=userdata+[{'date': begin.strftime(\"%H:%M:%S %d/%m/%y\"),\n",
    "     'name': wname.value,\n",
    "     'filename':filename,\n",
    "      'event':\"Novo Exercício\"}]\n",
    "def on_button_clicked(b):\n",
    "    global data,ans,userdata, filename\n",
    "    begin=datetime.datetime.now()\n",
    "    if(ans.value==data['gabarito']):\n",
    "        statusstr=\"Great Success!!\"\n",
    "        userdata=userdata+[{'date': begin.strftime(\"%H:%M:%S %d/%m/%y\"),\n",
    "     'name': wname.value,\n",
    "     'filename':filename,\n",
    "      'event':\"Acerto\"}]\n",
    "    else:\n",
    "        statusstr=\"Tente de Novo\"\n",
    "        userdata=userdata+[{'date': begin.strftime(\"%H:%M:%S %d/%m/%y\"),\n",
    "     'name': wname.value,\n",
    "     'filename':filename,\n",
    "      'event':\"Erro\"}]\n",
    "    ww=widgets.HTMLMath(\n",
    "    value=statusstr,\n",
    "    placeholder=statusstr,\n",
    "    description='',\n",
    "    disabled=False)\n",
    "    display(ww)\n",
    "def on_dica_clicked(b):\n",
    "    global data,ans\n",
    "    ww=widgets.HTMLMath(\n",
    "    value=data['dica'],\n",
    "    placeholder=statusstr,\n",
    "    description='<b>Dica:</b>',\n",
    "    disabled=False)\n",
    "    display(ww)\n",
    "def widgetinterface(filename):\n",
    "    global data\n",
    "    button = widgets.Button(description=\"Verifique\")\n",
    "    button.on_click(on_button_clicked)\n",
    "    dica=widgets.Button(description=\"Dica\")\n",
    "    dica.on_click(on_dica_clicked)\n",
    "    data=geraquestoes(filename)    \n",
    "    wquestao=gerawquestao(data)    \n",
    "    return widgets.VBox([wquestao,widgets.HBox([button,dica])],\n",
    "                        layout=box_layout)"
   ]
  },
  {
   "cell_type": "code",
   "execution_count": 8,
   "metadata": {
    "ExecuteTime": {
     "end_time": "2017-04-30T19:41:36.881203",
     "start_time": "2017-04-30T19:41:36.843749Z"
    },
    "run_control": {
     "frozen": false,
     "read_only": false
    }
   },
   "outputs": [],
   "source": [
    "button = widgets.Button(description=\"Novo\",layout=box_layout_short)\n",
    "button.on_click(on_novo_clicked)\n",
    "wname=widgets.Text(\n",
    "    value='',\n",
    "    placeholder='Entre com o seu Nome',\n",
    "    description='<b>Nome:</b>',\n",
    "    disabled=False\n",
    ")\n",
    "widget_master=widgets.VBox([wname,button])\n",
    "\n"
   ]
  },
  {
   "cell_type": "code",
   "execution_count": 15,
   "metadata": {
    "ExecuteTime": {
     "end_time": "2017-04-30T19:51:04.933071",
     "start_time": "2017-04-30T19:51:04.927900Z"
    },
    "run_control": {
     "frozen": false,
     "read_only": false
    }
   },
   "outputs": [
    {
     "data": {
      "application/vnd.jupyter.widget-view+json": {
       "model_id": "04b47b949f3940448c7b7426e6f1df86"
      }
     },
     "metadata": {},
     "output_type": "display_data"
    },
    {
     "data": {
      "application/vnd.jupyter.widget-view+json": {
       "model_id": "2af428c1f6a04cd79e41aefa434c850b"
      }
     },
     "metadata": {},
     "output_type": "display_data"
    },
    {
     "data": {
      "application/vnd.jupyter.widget-view+json": {
       "model_id": "7e44dc1f61fb4ee19e8be53592cb25a1"
      }
     },
     "metadata": {},
     "output_type": "display_data"
    },
    {
     "ename": "NameError",
     "evalue": "name 'statusstr' is not defined",
     "output_type": "error",
     "traceback": [
      "\u001b[0;31m---------------------------------------------------------------------------\u001b[0m",
      "\u001b[0;31mNameError\u001b[0m                                 Traceback (most recent call last)",
      "\u001b[0;32m<ipython-input-7-72409cf02748>\u001b[0m in \u001b[0;36mon_dica_clicked\u001b[0;34m(b)\u001b[0m\n\u001b[1;32m     54\u001b[0m     ww=widgets.HTMLMath(\n\u001b[1;32m     55\u001b[0m     \u001b[0mvalue\u001b[0m\u001b[0;34m=\u001b[0m\u001b[0mdata\u001b[0m\u001b[0;34m[\u001b[0m\u001b[0;34m'dica'\u001b[0m\u001b[0;34m]\u001b[0m\u001b[0;34m,\u001b[0m\u001b[0;34m\u001b[0m\u001b[0m\n\u001b[0;32m---> 56\u001b[0;31m     \u001b[0mplaceholder\u001b[0m\u001b[0;34m=\u001b[0m\u001b[0mstatusstr\u001b[0m\u001b[0;34m,\u001b[0m\u001b[0;34m\u001b[0m\u001b[0m\n\u001b[0m\u001b[1;32m     57\u001b[0m     \u001b[0mdescription\u001b[0m\u001b[0;34m=\u001b[0m\u001b[0;34m'<b>Dica:</b>'\u001b[0m\u001b[0;34m,\u001b[0m\u001b[0;34m\u001b[0m\u001b[0m\n\u001b[1;32m     58\u001b[0m     disabled=False)\n",
      "\u001b[0;31mNameError\u001b[0m: name 'statusstr' is not defined"
     ]
    },
    {
     "data": {
      "application/vnd.jupyter.widget-view+json": {
       "model_id": "48adb41f82aa4d40903320517faee62b"
      }
     },
     "metadata": {},
     "output_type": "display_data"
    },
    {
     "data": {
      "application/vnd.jupyter.widget-view+json": {
       "model_id": "dcf626ea8c694b1d934915d97f1cb4cd"
      }
     },
     "metadata": {},
     "output_type": "display_data"
    },
    {
     "data": {
      "application/vnd.jupyter.widget-view+json": {
       "model_id": "517be04a6074401991c8a7abf8792905"
      }
     },
     "metadata": {},
     "output_type": "display_data"
    },
    {
     "data": {
      "application/vnd.jupyter.widget-view+json": {
       "model_id": "5e91b72e7d7d40ca906359db6c84ca81"
      }
     },
     "metadata": {},
     "output_type": "display_data"
    },
    {
     "data": {
      "application/vnd.jupyter.widget-view+json": {
       "model_id": "5c8a0cf6da324a3c9d892b1939b58ba1"
      }
     },
     "metadata": {},
     "output_type": "display_data"
    },
    {
     "data": {
      "application/vnd.jupyter.widget-view+json": {
       "model_id": "eb0ae6a29a0b4313b0035bbf307b4540"
      }
     },
     "metadata": {},
     "output_type": "display_data"
    },
    {
     "data": {
      "application/vnd.jupyter.widget-view+json": {
       "model_id": "21e88f479b394a47aeb4049206218963"
      }
     },
     "metadata": {},
     "output_type": "display_data"
    },
    {
     "data": {
      "application/vnd.jupyter.widget-view+json": {
       "model_id": "fc51437283784bb3b1b0133fc93b38e0"
      }
     },
     "metadata": {},
     "output_type": "display_data"
    }
   ],
   "source": [
    "display(widget_master)"
   ]
  },
  {
   "cell_type": "code",
   "execution_count": 16,
   "metadata": {
    "ExecuteTime": {
     "end_time": "2017-04-30T12:22:17.968454Z",
     "start_time": "2017-04-30T12:22:17.961381Z"
    },
    "collapsed": true,
    "run_control": {
     "frozen": false,
     "read_only": false
    }
   },
   "outputs": [],
   "source": [
    "df=pd.DataFrame(userdata)"
   ]
  },
  {
   "cell_type": "code",
   "execution_count": 17,
   "metadata": {
    "ExecuteTime": {
     "end_time": "2017-04-30T12:22:18.716094Z",
     "start_time": "2017-04-30T12:22:18.704516Z"
    },
    "run_control": {
     "frozen": false,
     "read_only": false
    }
   },
   "outputs": [
    {
     "data": {
      "text/html": [
       "<div>\n",
       "<table border=\"1\" class=\"dataframe\">\n",
       "  <thead>\n",
       "    <tr style=\"text-align: right;\">\n",
       "      <th></th>\n",
       "      <th>date</th>\n",
       "      <th>event</th>\n",
       "      <th>filename</th>\n",
       "      <th>name</th>\n",
       "    </tr>\n",
       "  </thead>\n",
       "  <tbody>\n",
       "    <tr>\n",
       "      <th>0</th>\n",
       "      <td>12:35:35 02/05/17</td>\n",
       "      <td>Novo Exercício</td>\n",
       "      <td>ex2</td>\n",
       "      <td></td>\n",
       "    </tr>\n",
       "    <tr>\n",
       "      <th>1</th>\n",
       "      <td>12:36:56 02/05/17</td>\n",
       "      <td>Erro</td>\n",
       "      <td>ex2</td>\n",
       "      <td></td>\n",
       "    </tr>\n",
       "    <tr>\n",
       "      <th>2</th>\n",
       "      <td>12:36:59 02/05/17</td>\n",
       "      <td>Erro</td>\n",
       "      <td>ex2</td>\n",
       "      <td></td>\n",
       "    </tr>\n",
       "    <tr>\n",
       "      <th>3</th>\n",
       "      <td>12:37:02 02/05/17</td>\n",
       "      <td>Erro</td>\n",
       "      <td>ex2</td>\n",
       "      <td></td>\n",
       "    </tr>\n",
       "    <tr>\n",
       "      <th>4</th>\n",
       "      <td>12:37:06 02/05/17</td>\n",
       "      <td>Acerto</td>\n",
       "      <td>ex2</td>\n",
       "      <td></td>\n",
       "    </tr>\n",
       "    <tr>\n",
       "      <th>5</th>\n",
       "      <td>12:37:27 02/05/17</td>\n",
       "      <td>Novo Exercício</td>\n",
       "      <td>ex2</td>\n",
       "      <td>Ney Lemke</td>\n",
       "    </tr>\n",
       "    <tr>\n",
       "      <th>6</th>\n",
       "      <td>12:37:36 02/05/17</td>\n",
       "      <td>Acerto</td>\n",
       "      <td>ex2</td>\n",
       "      <td>Ney Lemke</td>\n",
       "    </tr>\n",
       "    <tr>\n",
       "      <th>7</th>\n",
       "      <td>12:37:45 02/05/17</td>\n",
       "      <td>Novo Exercício</td>\n",
       "      <td>ex4</td>\n",
       "      <td>Ney Lemke</td>\n",
       "    </tr>\n",
       "    <tr>\n",
       "      <th>8</th>\n",
       "      <td>13:21:15 02/05/17</td>\n",
       "      <td>Novo Exercício</td>\n",
       "      <td>ex1</td>\n",
       "      <td>Ney Lemke</td>\n",
       "    </tr>\n",
       "    <tr>\n",
       "      <th>9</th>\n",
       "      <td>13:21:26 02/05/17</td>\n",
       "      <td>Erro</td>\n",
       "      <td>ex1</td>\n",
       "      <td>Ney Lemke</td>\n",
       "    </tr>\n",
       "    <tr>\n",
       "      <th>10</th>\n",
       "      <td>13:21:36 02/05/17</td>\n",
       "      <td>Erro</td>\n",
       "      <td>ex1</td>\n",
       "      <td>Ney Lemke</td>\n",
       "    </tr>\n",
       "    <tr>\n",
       "      <th>11</th>\n",
       "      <td>13:21:41 02/05/17</td>\n",
       "      <td>Acerto</td>\n",
       "      <td>ex1</td>\n",
       "      <td>Ney Lemke</td>\n",
       "    </tr>\n",
       "    <tr>\n",
       "      <th>12</th>\n",
       "      <td>13:21:46 02/05/17</td>\n",
       "      <td>Novo Exercício</td>\n",
       "      <td>ex4</td>\n",
       "      <td>Ney Lemke</td>\n",
       "    </tr>\n",
       "    <tr>\n",
       "      <th>13</th>\n",
       "      <td>13:22:05 02/05/17</td>\n",
       "      <td>Acerto</td>\n",
       "      <td>ex4</td>\n",
       "      <td>Ney Lemke</td>\n",
       "    </tr>\n",
       "    <tr>\n",
       "      <th>14</th>\n",
       "      <td>13:22:23 02/05/17</td>\n",
       "      <td>Novo Exercício</td>\n",
       "      <td>ex1</td>\n",
       "      <td>Ney Lemke</td>\n",
       "    </tr>\n",
       "    <tr>\n",
       "      <th>15</th>\n",
       "      <td>13:22:30 02/05/17</td>\n",
       "      <td>Acerto</td>\n",
       "      <td>ex1</td>\n",
       "      <td>Ney Lemke</td>\n",
       "    </tr>\n",
       "    <tr>\n",
       "      <th>16</th>\n",
       "      <td>13:22:33 02/05/17</td>\n",
       "      <td>Novo Exercício</td>\n",
       "      <td>ex3</td>\n",
       "      <td>Ney Lemke</td>\n",
       "    </tr>\n",
       "    <tr>\n",
       "      <th>17</th>\n",
       "      <td>13:22:47 02/05/17</td>\n",
       "      <td>Acerto</td>\n",
       "      <td>ex3</td>\n",
       "      <td>Ney Lemke</td>\n",
       "    </tr>\n",
       "  </tbody>\n",
       "</table>\n",
       "</div>"
      ],
      "text/plain": [
       "                 date           event filename       name\n",
       "0   12:35:35 02/05/17  Novo Exercício      ex2           \n",
       "1   12:36:56 02/05/17            Erro      ex2           \n",
       "2   12:36:59 02/05/17            Erro      ex2           \n",
       "3   12:37:02 02/05/17            Erro      ex2           \n",
       "4   12:37:06 02/05/17          Acerto      ex2           \n",
       "5   12:37:27 02/05/17  Novo Exercício      ex2  Ney Lemke\n",
       "6   12:37:36 02/05/17          Acerto      ex2  Ney Lemke\n",
       "7   12:37:45 02/05/17  Novo Exercício      ex4  Ney Lemke\n",
       "8   13:21:15 02/05/17  Novo Exercício      ex1  Ney Lemke\n",
       "9   13:21:26 02/05/17            Erro      ex1  Ney Lemke\n",
       "10  13:21:36 02/05/17            Erro      ex1  Ney Lemke\n",
       "11  13:21:41 02/05/17          Acerto      ex1  Ney Lemke\n",
       "12  13:21:46 02/05/17  Novo Exercício      ex4  Ney Lemke\n",
       "13  13:22:05 02/05/17          Acerto      ex4  Ney Lemke\n",
       "14  13:22:23 02/05/17  Novo Exercício      ex1  Ney Lemke\n",
       "15  13:22:30 02/05/17          Acerto      ex1  Ney Lemke\n",
       "16  13:22:33 02/05/17  Novo Exercício      ex3  Ney Lemke\n",
       "17  13:22:47 02/05/17          Acerto      ex3  Ney Lemke"
      ]
     },
     "execution_count": 17,
     "metadata": {},
     "output_type": "execute_result"
    }
   ],
   "source": [
    "df"
   ]
  },
  {
   "cell_type": "code",
   "execution_count": 420,
   "metadata": {
    "ExecuteTime": {
     "end_time": "2017-04-30T14:47:32.176848Z",
     "start_time": "2017-04-30T14:47:32.152945Z"
    },
    "collapsed": true,
    "run_control": {
     "frozen": false,
     "read_only": false
    }
   },
   "outputs": [],
   "source": []
  },
  {
   "cell_type": "code",
   "execution_count": 421,
   "metadata": {
    "ExecuteTime": {
     "end_time": "2017-04-30T14:47:33.262251Z",
     "start_time": "2017-04-30T14:47:33.250540Z"
    },
    "run_control": {
     "frozen": false,
     "read_only": false
    }
   },
   "outputs": [
    {
     "data": {
      "application/vnd.jupyter.widget-view+json": {
       "model_id": "15fc923a5cb04deebcef40125872ab10"
      }
     },
     "metadata": {},
     "output_type": "display_data"
    }
   ],
   "source": [
    "\n",
    "widgets.RadioButtons(options=[1,2,3],\n",
    "        description='Resposta:',\n",
    "        disabled=False,layout=box_layout)"
   ]
  },
  {
   "cell_type": "code",
   "execution_count": 422,
   "metadata": {
    "ExecuteTime": {
     "end_time": "2017-04-30T14:48:29.554590Z",
     "start_time": "2017-04-30T14:48:29.546340Z"
    },
    "collapsed": true,
    "run_control": {
     "frozen": false,
     "read_only": false
    }
   },
   "outputs": [],
   "source": [
    "widgets.Layout?"
   ]
  },
  {
   "cell_type": "code",
   "execution_count": 21,
   "metadata": {
    "ExecuteTime": {
     "end_time": "2017-04-30T19:57:21.300917",
     "start_time": "2017-04-30T19:57:20.108941Z"
    },
    "run_control": {
     "frozen": false,
     "read_only": false
    }
   },
   "outputs": [
    {
     "data": {
      "application/vnd.jupyter.widget-view+json": {
       "model_id": "b49f00b33e324817812f775bd6a78147"
      }
     },
     "metadata": {},
     "output_type": "display_data"
    }
   ],
   "source": [
    "widgetinterface('ex4')"
   ]
  },
  {
   "cell_type": "code",
   "execution_count": 5,
   "metadata": {},
   "outputs": [
    {
     "data": {
      "text/plain": [
       "'4.1.1'"
      ]
     },
     "execution_count": 5,
     "metadata": {},
     "output_type": "execute_result"
    }
   ],
   "source": [
    "widgets.__version__"
   ]
  },
  {
   "cell_type": "code",
   "execution_count": null,
   "metadata": {
    "collapsed": true
   },
   "outputs": [],
   "source": []
  }
 ],
 "metadata": {
  "kernelspec": {
   "display_name": "Python 3",
   "language": "python",
   "name": "python3"
  },
  "language_info": {
   "codemirror_mode": {
    "name": "ipython",
    "version": 3
   },
   "file_extension": ".py",
   "mimetype": "text/x-python",
   "name": "python",
   "nbconvert_exporter": "python",
   "pygments_lexer": "ipython3",
   "version": "3.5.1"
  },
  "latex_envs": {
   "bibliofile": "biblio.bib",
   "cite_by": "apalike",
   "current_citInitial": 1,
   "eqLabelWithNumbers": true,
   "eqNumInitial": 0
  },
  "widgets": {
   "state": {
    "c334dc433f2048f599b50258b686841b": {
     "views": [
      {
       "cell_index": 4
      }
     ]
    }
   },
   "version": "1.2.0"
  }
 },
 "nbformat": 4,
 "nbformat_minor": 2
}
