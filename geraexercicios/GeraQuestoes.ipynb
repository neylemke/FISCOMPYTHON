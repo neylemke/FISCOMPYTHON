{
 "cells": [
  {
   "cell_type": "code",
   "execution_count": 1,
   "metadata": {
    "ExecuteTime": {
     "end_time": "2017-04-30T19:39:41.158350",
     "start_time": "2017-04-30T19:39:41.154061Z"
    },
    "collapsed": true,
    "run_control": {
     "frozen": false,
     "read_only": false
    }
   },
   "outputs": [],
   "source": [
    "import py_compile\n",
    "import os"
   ]
  },
  {
   "cell_type": "code",
   "execution_count": 13,
   "metadata": {
    "ExecuteTime": {
     "end_time": "2017-04-30T19:48:27.488987",
     "start_time": "2017-04-30T19:48:27.483790Z"
    },
    "run_control": {
     "frozen": false,
     "read_only": false
    }
   },
   "outputs": [
    {
     "name": "stdout",
     "output_type": "stream",
     "text": [
      "Overwriting ex1.py\n"
     ]
    }
   ],
   "source": [
    "%%writefile ex1.py\n",
    "import sys\n",
    "import random\n",
    "import pickle\n",
    "dic={'enunciado':r\"Qual é a área de um círculo de raio 1m?\",\n",
    "     'alternativas': ['3.14','2','i','-7','42'], 'gabarito':'3.14',\n",
    "     'dica':'Elimine as alternativas absurdas!'}\n",
    "random.shuffle(dic['alternativas'])\n",
    "with open('ex1.pickle', 'wb') as f:\n",
    "    # Pickle the 'data' dictionary using the highest protocol available.\n",
    "    pickle.dump(dic, f, pickle.HIGHEST_PROTOCOL)"
   ]
  },
  {
   "cell_type": "code",
   "execution_count": 14,
   "metadata": {
    "ExecuteTime": {
     "end_time": "2017-04-30T19:48:28.380237",
     "start_time": "2017-04-30T19:48:28.371139Z"
    },
    "run_control": {
     "frozen": false,
     "read_only": false
    }
   },
   "outputs": [
    {
     "data": {
      "text/plain": [
       "'ex1.pyc'"
      ]
     },
     "execution_count": 14,
     "metadata": {},
     "output_type": "execute_result"
    }
   ],
   "source": [
    "py_compile.compile(\"ex1.py\",cfile=\"ex1.pyc\")"
   ]
  },
  {
   "cell_type": "code",
   "execution_count": 1,
   "metadata": {
    "ExecuteTime": {
     "end_time": "2017-04-30T19:48:29.469611",
     "start_time": "2017-04-30T19:48:29.463741Z"
    },
    "run_control": {
     "frozen": false,
     "read_only": false
    }
   },
   "outputs": [
    {
     "name": "stdout",
     "output_type": "stream",
     "text": [
      "Overwriting ex2.py\n"
     ]
    }
   ],
   "source": [
    "\n",
    "%%writefile ex2.py\n",
    "import sys\n",
    "import random\n",
    "import pickle\n",
    "import ipywidgets as widgets\n",
    "\n",
    "x=random.randint(1,8)\n",
    "dic={'enunciado':r\"Qual é a área de um círculo de raio \"+str(x)+\"m?\",\n",
    "     'alternativas': [\n",
    "                     str(3.14*x**2) ,str(2*3.14*x**2),'i',str(-3.14*x**2),'42'], \n",
    "     'gabarito':str(3.14*x**2),\n",
    "     'dica':'Elimine as alternativas absurdas!'}\n",
    "random.shuffle(dic['alternativas'])\n",
    "with open('ex2.pickle', 'wb') as f:\n",
    "    # Pickle the 'data' dictionary using the highest protocol available.\n",
    "    pickle.dump(dic, f, pickle.HIGHEST_PROTOCOL)"
   ]
  },
  {
   "cell_type": "code",
   "execution_count": 2,
   "metadata": {
    "ExecuteTime": {
     "end_time": "2017-04-30T19:48:30.500118",
     "start_time": "2017-04-30T19:48:30.484765Z"
    },
    "run_control": {
     "frozen": false,
     "read_only": false
    }
   },
   "outputs": [
    {
     "ename": "NameError",
     "evalue": "name 'py_compile' is not defined",
     "output_type": "error",
     "traceback": [
      "\u001b[0;31m---------------------------------------------------------------------------\u001b[0m",
      "\u001b[0;31mNameError\u001b[0m                                 Traceback (most recent call last)",
      "\u001b[0;32m<ipython-input-2-03f80e047fde>\u001b[0m in \u001b[0;36m<module>\u001b[0;34m()\u001b[0m\n\u001b[0;32m----> 1\u001b[0;31m \u001b[0mpy_compile\u001b[0m\u001b[0;34m.\u001b[0m\u001b[0mcompile\u001b[0m\u001b[0;34m(\u001b[0m\u001b[0mfilename\u001b[0m\u001b[0;34m+\u001b[0m\u001b[0;34m\".py\"\u001b[0m\u001b[0;34m,\u001b[0m\u001b[0mcfile\u001b[0m\u001b[0;34m=\u001b[0m\u001b[0mfilename\u001b[0m\u001b[0;34m+\u001b[0m\u001b[0;34m\".pyc\"\u001b[0m\u001b[0;34m)\u001b[0m\u001b[0;34m\u001b[0m\u001b[0m\n\u001b[0m",
      "\u001b[0;31mNameError\u001b[0m: name 'py_compile' is not defined"
     ]
    }
   ],
   "source": [
    "py_compile.compile(filename+\".py\",cfile=filename+\".pyc\")"
   ]
  },
  {
   "cell_type": "code",
   "execution_count": 17,
   "metadata": {
    "ExecuteTime": {
     "end_time": "2017-04-30T19:48:32.782816",
     "start_time": "2017-04-30T19:48:31.903303Z"
    },
    "run_control": {
     "frozen": false,
     "read_only": false
    }
   },
   "outputs": [
    {
     "data": {
      "text/plain": [
       "0"
      ]
     },
     "execution_count": 17,
     "metadata": {},
     "output_type": "execute_result"
    }
   ],
   "source": [
    "os.system(\"python ex2.pyc\")"
   ]
  },
  {
   "cell_type": "code",
   "execution_count": 18,
   "metadata": {
    "ExecuteTime": {
     "end_time": "2017-04-30T19:48:33.050304",
     "start_time": "2017-04-30T19:48:33.043380Z"
    },
    "run_control": {
     "frozen": false,
     "read_only": false
    }
   },
   "outputs": [
    {
     "name": "stdout",
     "output_type": "stream",
     "text": [
      "Overwriting ex3.py\n"
     ]
    }
   ],
   "source": [
    "%%writefile ex3.py\n",
    "import sys\n",
    "import random\n",
    "import pickle\n",
    "import ipywidgets as widgets\n",
    "\n",
    "x=random.randint(1,8)\n",
    "dic={'enunciado':\"\"\"Qual é a área de um círculo de raio $r$?<br>\n",
    "(a) $\\pi r^2$<br>\n",
    "(b) $\\pi r$<br>\n",
    "(c) $-\\pi r$<br>\n",
    "(d) $2\\pi r$<br>\n",
    "(e) $3\\pi r$\n",
    "\"\"\", 'alternativas': ['a','b','c','d','e'], \n",
    "     'gabarito':'a',\n",
    "     'dica':'Elimine as alternativas absurdas!'}\n",
    "with open('ex3.pickle', 'wb') as f:\n",
    "    # Pickle the 'data' dictionary using the highest protocol available.\n",
    "    pickle.dump(dic, f, pickle.HIGHEST_PROTOCOL)"
   ]
  },
  {
   "cell_type": "code",
   "execution_count": 19,
   "metadata": {
    "ExecuteTime": {
     "end_time": "2017-04-30T19:48:34.095643",
     "start_time": "2017-04-30T19:48:33.962167Z"
    },
    "collapsed": true,
    "run_control": {
     "frozen": false,
     "read_only": false
    }
   },
   "outputs": [],
   "source": [
    "py_compile.compile(\"ex3.py\",cfile=\"ex3.pyc\")\n",
    "!rm ex3.py"
   ]
  },
  {
   "cell_type": "code",
   "execution_count": 20,
   "metadata": {
    "ExecuteTime": {
     "end_time": "2017-04-30T19:48:36.989381",
     "start_time": "2017-04-30T19:48:36.068903Z"
    },
    "run_control": {
     "frozen": false,
     "read_only": false
    }
   },
   "outputs": [
    {
     "data": {
      "text/plain": [
       "0"
      ]
     },
     "execution_count": 20,
     "metadata": {},
     "output_type": "execute_result"
    }
   ],
   "source": [
    "os.system(\"python ex3.pyc\")"
   ]
  },
  {
   "cell_type": "markdown",
   "metadata": {
    "collapsed": true,
    "run_control": {
     "frozen": false,
     "read_only": false
    }
   },
   "source": [
    "![tetet](Oscillating_pendulum.gif)"
   ]
  },
  {
   "cell_type": "code",
   "execution_count": 1,
   "metadata": {
    "ExecuteTime": {
     "end_time": "2017-04-30T19:35:13.380903",
     "start_time": "2017-04-30T19:35:13.248530Z"
    },
    "run_control": {
     "frozen": false,
     "read_only": false
    }
   },
   "outputs": [
    {
     "name": "stdout",
     "output_type": "stream",
     "text": [
      "ExemploQuestões.ipynb\r\n",
      "GeraQuestoes.ipynb\r\n",
      "Oscillating pendulum - Acceleration - W.htm\r\n",
      "\u001b[34mOscillating pendulum - Acceleration - W_files\u001b[m\u001b[m\r\n",
      "Oscillating_pendulum.gif\r\n",
      "ex1.py\r\n",
      "ex1.pyc\r\n",
      "ex2.py\r\n",
      "ex2.pyc\r\n",
      "ex3.py\r\n",
      "ex3.pyc\r\n",
      "hello.py\r\n",
      "jupytergcloud.py\r\n",
      "teste.py\r\n",
      "zxy456.py\r\n"
     ]
    }
   ],
   "source": [
    "!ls"
   ]
  },
  {
   "cell_type": "code",
   "execution_count": 28,
   "metadata": {
    "ExecuteTime": {
     "end_time": "2017-04-30T19:59:04.844769",
     "start_time": "2017-04-30T19:59:04.837917Z"
    },
    "run_control": {
     "frozen": false,
     "read_only": false
    }
   },
   "outputs": [
    {
     "name": "stdout",
     "output_type": "stream",
     "text": [
      "Writing ex4.py\n"
     ]
    }
   ],
   "source": [
    "%%writefile ex4.py\n",
    "import sys\n",
    "import random\n",
    "import pickle\n",
    "import ipywidgets as widgets\n",
    "\n",
    "x=random.randint(1,8)\n",
    "dic={'enunciado':\"\"\"Em relação a figura abaixo, \n",
    "escolha a afirmativa verdadeira.<br>\n",
    "<IMG SRC=\"Oscillating_pendulum.gif\" ALT=\"some text\"  HEIGHT=200>\n",
    "<br>\n",
    "(a) a aceleração é constante <br>\n",
    "(b) a velocidade é constante <br>\n",
    "(c) velocidade e aceleração são ortogonais <br>\n",
    "(d) o ângulo $\\\\theta$ não é constante <br>\n",
    "(e) o módulo da velocidade oscila com o tempo. \n",
    "\"\"\", 'alternativas': ['a','b','c','d','e'], \n",
    "     'gabarito':'c',\n",
    "     'dica':'Elimine as alternativas absurdas!'}\n",
    "with open('ex4.pickle', 'wb') as f:\n",
    "    # Pickle the 'data' dictionary using the highest protocol available.\n",
    "    pickle.dump(dic, f, pickle.HIGHEST_PROTOCOL)"
   ]
  },
  {
   "cell_type": "code",
   "execution_count": 29,
   "metadata": {
    "ExecuteTime": {
     "end_time": "2017-04-30T19:59:06.965489",
     "start_time": "2017-04-30T19:59:06.837838Z"
    },
    "collapsed": true
   },
   "outputs": [],
   "source": [
    "py_compile.compile(\"ex4.py\",cfile=\"ex4.pyc\")\n",
    "!rm ex4.py"
   ]
  },
  {
   "cell_type": "code",
   "execution_count": 23,
   "metadata": {
    "ExecuteTime": {
     "end_time": "2017-04-30T19:50:50.775993",
     "start_time": "2017-04-30T19:50:49.776468Z"
    }
   },
   "outputs": [
    {
     "data": {
      "text/plain": [
       "0"
      ]
     },
     "execution_count": 23,
     "metadata": {},
     "output_type": "execute_result"
    }
   ],
   "source": [
    "os.system(\"python ex4.pyc\")"
   ]
  },
  {
   "cell_type": "code",
   "execution_count": null,
   "metadata": {
    "collapsed": true
   },
   "outputs": [],
   "source": []
  }
 ],
 "metadata": {
  "kernelspec": {
   "display_name": "Python 3",
   "language": "python",
   "name": "python3"
  },
  "language_info": {
   "codemirror_mode": {
    "name": "ipython",
    "version": 3
   },
   "file_extension": ".py",
   "mimetype": "text/x-python",
   "name": "python",
   "nbconvert_exporter": "python",
   "pygments_lexer": "ipython3",
   "version": "3.5.1"
  },
  "latex_envs": {
   "bibliofile": "biblio.bib",
   "cite_by": "apalike",
   "current_citInitial": 1,
   "eqLabelWithNumbers": true,
   "eqNumInitial": 0
  }
 },
 "nbformat": 4,
 "nbformat_minor": 2
}
