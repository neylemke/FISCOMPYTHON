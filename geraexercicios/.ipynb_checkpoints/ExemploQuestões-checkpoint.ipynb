{
 "cells": [
  {
   "cell_type": "code",
   "execution_count": 2,
   "metadata": {
    "ExecuteTime": {
     "end_time": "2017-04-30T19:41:33.760550",
     "start_time": "2017-04-30T19:41:33.757040Z"
    },
    "collapsed": true,
    "run_control": {
     "frozen": false,
     "read_only": false
    }
   },
   "outputs": [],
   "source": [
    "import ipywidgets as widgets\n",
    "from IPython.display import display\n",
    "import pickle\n",
    "import datetime\n",
    "import pandas as pd\n",
    "import random"
   ]
  },
  {
   "cell_type": "code",
   "execution_count": 29,
   "metadata": {
    "ExecuteTime": {
     "end_time": "2017-04-30T19:41:34.652161",
     "start_time": "2017-04-30T19:41:34.642912Z"
    },
    "run_control": {
     "frozen": false,
     "read_only": false
    }
   },
   "outputs": [],
   "source": [
    "userdata=[]\n",
    "box_layout = widgets.Layout(\n",
    "                    border='2px solid black',\n",
    "                    width= '700px',\n",
    "                    height='1500px',\n",
    "                    display='flex')\n",
    "box_layout_short = widgets.Layout(\n",
    "                    border='2px solid black'\n",
    "                    )"
   ]
  },
  {
   "cell_type": "code",
   "execution_count": 30,
   "metadata": {
    "ExecuteTime": {
     "end_time": "2017-04-30T19:41:35.629660",
     "start_time": "2017-04-30T19:41:35.579103Z"
    },
    "code_folding": [
     13
    ],
    "collapsed": true,
    "run_control": {
     "frozen": false,
     "read_only": false
    }
   },
   "outputs": [],
   "source": [
    "def geraquestoes(filename):\n",
    "    import os;\n",
    "    os.system(\"python \"+filename+\".pyc\")\n",
    "    with open(filename+\".pickle\", 'rb') as f:\n",
    "    # The protocol version used is detected automatically, so we do not\n",
    "    # have to specify it.\n",
    "         return pickle.load(f)\n",
    "def gerawquestao(data):\n",
    "    global ans\n",
    "    ans=widgets.RadioButtons(\n",
    "        options=data['alternativas'],\n",
    "        value=random.choice(data['alternativas']),\n",
    "        description='Resposta:',\n",
    "        disabled=False )\n",
    "    text=widgets.HTMLMath(\n",
    "        value=data['enunciado'],\n",
    "        placeholder='Some HTML',\n",
    "        description='Pergunta:',\n",
    "        disabled=False )\n",
    "    return widgets.VBox([text,ans])\n",
    "def on_novo_clicked(b):\n",
    "    global userdata,filename\n",
    "    lisex=['ex1','ex2','ex3','ex4']\n",
    "    filename=random.choice(lisex)\n",
    "    display(widgetinterface(filename))\n",
    "    begin=datetime.datetime.now()\n",
    "    userdata=userdata+[{'date': begin.strftime(\"%H:%M:%S %d/%m/%y\"),\n",
    "     'name': wname.value,\n",
    "     'filename':filename,\n",
    "      'event':\"Novo Exercício\"}]\n",
    "def on_button_clicked(b):\n",
    "    global data,ans,userdata, filename\n",
    "    begin=datetime.datetime.now()\n",
    "    if(ans.value==data['gabarito']):\n",
    "        statusstr=\"Great Success!!\"\n",
    "        userdata=userdata+[{'date': begin.strftime(\"%H:%M:%S %d/%m/%y\"),\n",
    "     'name': wname.value,\n",
    "     'filename':filename,\n",
    "      'event':\"Acerto\"}]\n",
    "    else:\n",
    "        statusstr=\"Tente de Novo\"\n",
    "        userdata=userdata+[{'date': begin.strftime(\"%H:%M:%S %d/%m/%y\"),\n",
    "     'name': wname.value,\n",
    "     'filename':filename,\n",
    "      'event':\"Erro\"}]\n",
    "    ww=widgets.HTMLMath(\n",
    "    value=statusstr,\n",
    "    placeholder=statusstr,\n",
    "    description='',\n",
    "    disabled=False)\n",
    "    display(ww)\n",
    "def on_dica_clicked(b):\n",
    "    global data,ans\n",
    "    ww=widgets.HTMLMath(\n",
    "    value=data['dica'],\n",
    "    placeholder=statusstr,\n",
    "    description='<b>Dica:</b>',\n",
    "    disabled=False)\n",
    "    display(ww)\n",
    "def widgetinterface(filename):\n",
    "    global data\n",
    "    button = widgets.Button(description=\"Verifique\")\n",
    "    button.on_click(on_button_clicked)\n",
    "    dica=widgets.Button(description=\"Dica\")\n",
    "    dica.on_click(on_dica_clicked)\n",
    "    data=geraquestoes(filename)    \n",
    "    wquestao=gerawquestao(data)    \n",
    "    return widgets.VBox([wquestao,widgets.HBox([button,dica])],\n",
    "                        layout=box_layout)"
   ]
  },
  {
   "cell_type": "code",
   "execution_count": 31,
   "metadata": {
    "ExecuteTime": {
     "end_time": "2017-04-30T19:41:36.881203",
     "start_time": "2017-04-30T19:41:36.843749Z"
    },
    "collapsed": true,
    "run_control": {
     "frozen": false,
     "read_only": false
    }
   },
   "outputs": [],
   "source": [
    "button = widgets.Button(description=\"Novo\",layout=box_layout_short)\n",
    "button.on_click(on_novo_clicked)\n",
    "wname=widgets.Text(\n",
    "    value='',\n",
    "    placeholder='Entre com o seu Nome',\n",
    "    description='<b>Nome:</b>',\n",
    "    disabled=False\n",
    ")\n",
    "widget_master=widgets.VBox([wname,button])\n",
    "\n"
   ]
  },
  {
   "cell_type": "code",
   "execution_count": 32,
   "metadata": {
    "ExecuteTime": {
     "end_time": "2017-04-30T19:51:04.933071",
     "start_time": "2017-04-30T19:51:04.927900Z"
    },
    "run_control": {
     "frozen": false,
     "read_only": false
    }
   },
   "outputs": [
    {
     "data": {
      "application/vnd.jupyter.widget-view+json": {
       "model_id": "ee087b178736420aa5faa4a17465f0fd"
      }
     },
     "metadata": {},
     "output_type": "display_data"
    },
    {
     "data": {
      "application/vnd.jupyter.widget-view+json": {
       "model_id": "f026fe452eee4c7c8e3a854f93727a80"
      }
     },
     "metadata": {},
     "output_type": "display_data"
    }
   ],
   "source": [
    "display(widget_master)"
   ]
  },
  {
   "cell_type": "code",
   "execution_count": 12,
   "metadata": {},
   "outputs": [
    {
     "name": "stdout",
     "output_type": "stream",
     "text": [
      "/bin/sh: 1: pip3: not found\r\n"
     ]
    }
   ],
   "source": [
    "!pip3 install ipywidgets"
   ]
  },
  {
   "cell_type": "code",
   "execution_count": 405,
   "metadata": {
    "ExecuteTime": {
     "end_time": "2017-04-30T12:22:17.968454Z",
     "start_time": "2017-04-30T12:22:17.961381Z"
    },
    "collapsed": true,
    "run_control": {
     "frozen": false,
     "read_only": false
    }
   },
   "outputs": [],
   "source": [
    "df=pd.DataFrame(userdata)"
   ]
  },
  {
   "cell_type": "code",
   "execution_count": 406,
   "metadata": {
    "ExecuteTime": {
     "end_time": "2017-04-30T12:22:18.716094Z",
     "start_time": "2017-04-30T12:22:18.704516Z"
    },
    "run_control": {
     "frozen": false,
     "read_only": false
    }
   },
   "outputs": [
    {
     "data": {
      "text/html": [
       "<div>\n",
       "<table border=\"1\" class=\"dataframe\">\n",
       "  <thead>\n",
       "    <tr style=\"text-align: right;\">\n",
       "      <th></th>\n",
       "      <th>date</th>\n",
       "      <th>event</th>\n",
       "      <th>filename</th>\n",
       "      <th>name</th>\n",
       "    </tr>\n",
       "  </thead>\n",
       "  <tbody>\n",
       "    <tr>\n",
       "      <th>0</th>\n",
       "      <td>09:21:25 30/04/17</td>\n",
       "      <td>novo exercício</td>\n",
       "      <td>ex1</td>\n",
       "      <td>Ney Lemke</td>\n",
       "    </tr>\n",
       "    <tr>\n",
       "      <th>1</th>\n",
       "      <td>09:22:09 30/04/17</td>\n",
       "      <td>Acerto</td>\n",
       "      <td>ex1</td>\n",
       "      <td>Ney Lemke</td>\n",
       "    </tr>\n",
       "  </tbody>\n",
       "</table>\n",
       "</div>"
      ],
      "text/plain": [
       "                date           event filename       name\n",
       "0  09:21:25 30/04/17  novo exercício      ex1  Ney Lemke\n",
       "1  09:22:09 30/04/17          Acerto      ex1  Ney Lemke"
      ]
     },
     "execution_count": 406,
     "metadata": {},
     "output_type": "execute_result"
    }
   ],
   "source": [
    "df"
   ]
  },
  {
   "cell_type": "code",
   "execution_count": 420,
   "metadata": {
    "ExecuteTime": {
     "end_time": "2017-04-30T14:47:32.176848Z",
     "start_time": "2017-04-30T14:47:32.152945Z"
    },
    "collapsed": true,
    "run_control": {
     "frozen": false,
     "read_only": false
    }
   },
   "outputs": [],
   "source": []
  },
  {
   "cell_type": "code",
   "execution_count": 421,
   "metadata": {
    "ExecuteTime": {
     "end_time": "2017-04-30T14:47:33.262251Z",
     "start_time": "2017-04-30T14:47:33.250540Z"
    },
    "run_control": {
     "frozen": false,
     "read_only": false
    }
   },
   "outputs": [
    {
     "data": {
      "application/vnd.jupyter.widget-view+json": {
       "model_id": "15fc923a5cb04deebcef40125872ab10"
      }
     },
     "metadata": {},
     "output_type": "display_data"
    }
   ],
   "source": [
    "\n",
    "widgets.RadioButtons(options=[1,2,3],\n",
    "        description='Resposta:',\n",
    "        disabled=False,layout=box_layout)"
   ]
  },
  {
   "cell_type": "code",
   "execution_count": 422,
   "metadata": {
    "ExecuteTime": {
     "end_time": "2017-04-30T14:48:29.554590Z",
     "start_time": "2017-04-30T14:48:29.546340Z"
    },
    "collapsed": true,
    "run_control": {
     "frozen": false,
     "read_only": false
    }
   },
   "outputs": [],
   "source": [
    "widgets.Layout?"
   ]
  },
  {
   "cell_type": "code",
   "execution_count": 21,
   "metadata": {
    "ExecuteTime": {
     "end_time": "2017-04-30T19:57:21.300917",
     "start_time": "2017-04-30T19:57:20.108941Z"
    },
    "run_control": {
     "frozen": false,
     "read_only": false
    }
   },
   "outputs": [
    {
     "data": {
      "application/vnd.jupyter.widget-view+json": {
       "model_id": "b49f00b33e324817812f775bd6a78147"
      }
     },
     "metadata": {},
     "output_type": "display_data"
    }
   ],
   "source": [
    "widgetinterface('ex4')"
   ]
  },
  {
   "cell_type": "code",
   "execution_count": null,
   "metadata": {
    "collapsed": true
   },
   "outputs": [],
   "source": []
  }
 ],
 "metadata": {
  "kernelspec": {
   "display_name": "Python 3",
   "language": "python",
   "name": "python3"
  },
  "language_info": {
   "codemirror_mode": {
    "name": "ipython",
    "version": 3
   },
   "file_extension": ".py",
   "mimetype": "text/x-python",
   "name": "python",
   "nbconvert_exporter": "python",
   "pygments_lexer": "ipython3",
   "version": "3.6.0"
  },
  "latex_envs": {
   "bibliofile": "biblio.bib",
   "cite_by": "apalike",
   "current_citInitial": 1,
   "eqLabelWithNumbers": true,
   "eqNumInitial": 0
  },
  "widgets": {
   "state": {
    "c334dc433f2048f599b50258b686841b": {
     "views": [
      {
       "cell_index": 4
      }
     ]
    }
   },
   "version": "1.2.0"
  }
 },
 "nbformat": 4,
 "nbformat_minor": 2
}
