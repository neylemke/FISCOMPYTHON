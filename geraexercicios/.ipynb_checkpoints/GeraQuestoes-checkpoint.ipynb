{
 "cells": [
  {
   "cell_type": "code",
   "execution_count": 48,
   "metadata": {
    "ExecuteTime": {
     "end_time": "2017-04-29T21:11:58.262054Z",
     "start_time": "2017-04-29T21:11:58.259184Z"
    },
    "collapsed": true,
    "run_control": {
     "frozen": false,
     "read_only": false
    }
   },
   "outputs": [],
   "source": [
    "import py_compile\n",
    "import os"
   ]
  },
  {
   "cell_type": "code",
   "execution_count": 17,
   "metadata": {
    "ExecuteTime": {
     "end_time": "2017-04-29T20:43:43.599697Z",
     "start_time": "2017-04-29T20:43:43.595896Z"
    },
    "run_control": {
     "frozen": false,
     "read_only": false
    }
   },
   "outputs": [
    {
     "name": "stdout",
     "output_type": "stream",
     "text": [
      "Overwriting ex1.py\n"
     ]
    }
   ],
   "source": [
    "%%writefile ex1.py\n",
    "import sys\n",
    "import random\n",
    "import pickle\n",
    "dic={'enunciado':r\"Qual é a área de um círculo de raio 1m?\",\n",
    "     'alternativas': ['3.14','2','i','-7','42'], 'gabarito':'3.14',\n",
    "     'dica':'Elimine as alternativas absurdas!'}\n",
    "random.shuffle(dic['alternativas'])\n",
    "with open('ex1.pickle', 'wb') as f:\n",
    "    # Pickle the 'data' dictionary using the highest protocol available.\n",
    "    pickle.dump(dic, f, pickle.HIGHEST_PROTOCOL)"
   ]
  },
  {
   "cell_type": "code",
   "execution_count": 18,
   "metadata": {
    "ExecuteTime": {
     "end_time": "2017-04-29T20:43:46.270259Z",
     "start_time": "2017-04-29T20:43:46.265414Z"
    },
    "run_control": {
     "frozen": false,
     "read_only": false
    }
   },
   "outputs": [
    {
     "data": {
      "text/plain": [
       "'ex1.pyc'"
      ]
     },
     "execution_count": 18,
     "metadata": {},
     "output_type": "execute_result"
    }
   ],
   "source": [
    "py_compile.compile(\"ex1.py\",cfile=\"ex1.pyc\")"
   ]
  },
  {
   "cell_type": "code",
   "execution_count": 89,
   "metadata": {
    "ExecuteTime": {
     "end_time": "2017-04-29T21:51:44.141704Z",
     "start_time": "2017-04-29T21:51:44.124868Z"
    },
    "run_control": {
     "frozen": false,
     "read_only": false
    }
   },
   "outputs": [
    {
     "name": "stdout",
     "output_type": "stream",
     "text": [
      "Overwriting ex2.py\n"
     ]
    }
   ],
   "source": [
    "\n",
    "%%writefile ex2.py\n",
    "import sys\n",
    "import random\n",
    "import pickle\n",
    "import ipywidgets as widgets\n",
    "\n",
    "x=random.randint(1,8)\n",
    "dic={'enunciado':r\"Qual é a área de um círculo de raio \"+str(x)+\"m?\",\n",
    "     'alternativas': [\n",
    "                     str(3.14*x**2) ,str(2*3.14*x**2),'i',str(-3.14*x**2),'42'], \n",
    "     'gabarito':str(3.14*x**2),\n",
    "     'dica':'Elimine as alternativas absurdas!'}\n",
    "random.shuffle(dic['alternativas'])\n",
    "with open('ex2.pickle', 'wb') as f:\n",
    "    # Pickle the 'data' dictionary using the highest protocol available.\n",
    "    pickle.dump(dic, f, pickle.HIGHEST_PROTOCOL)"
   ]
  },
  {
   "cell_type": "code",
   "execution_count": 90,
   "metadata": {
    "ExecuteTime": {
     "end_time": "2017-04-29T21:51:46.642639Z",
     "start_time": "2017-04-29T21:51:46.633421Z"
    },
    "run_control": {
     "frozen": false,
     "read_only": false
    }
   },
   "outputs": [
    {
     "data": {
      "text/plain": [
       "'ex2.pyc'"
      ]
     },
     "execution_count": 90,
     "metadata": {},
     "output_type": "execute_result"
    }
   ],
   "source": [
    "py_compile.compile(filename+\".py\",cfile=filename+\".pyc\")"
   ]
  },
  {
   "cell_type": "code",
   "execution_count": 91,
   "metadata": {
    "ExecuteTime": {
     "end_time": "2017-04-29T21:52:23.224911Z",
     "start_time": "2017-04-29T21:52:22.603107Z"
    },
    "run_control": {
     "frozen": false,
     "read_only": false
    }
   },
   "outputs": [
    {
     "data": {
      "text/plain": [
       "0"
      ]
     },
     "execution_count": 91,
     "metadata": {},
     "output_type": "execute_result"
    }
   ],
   "source": [
    "os.system(\"python ex2.pyc\")"
   ]
  },
  {
   "cell_type": "code",
   "execution_count": 110,
   "metadata": {
    "ExecuteTime": {
     "end_time": "2017-04-29T22:06:26.051341Z",
     "start_time": "2017-04-29T22:06:26.046371Z"
    },
    "run_control": {
     "frozen": false,
     "read_only": false
    }
   },
   "outputs": [
    {
     "name": "stdout",
     "output_type": "stream",
     "text": [
      "Overwriting ex3.py\n"
     ]
    }
   ],
   "source": [
    "\n",
    "%%writefile ex3.py\n",
    "import sys\n",
    "import random\n",
    "import pickle\n",
    "import ipywidgets as widgets\n",
    "\n",
    "x=random.randint(1,8)\n",
    "dic={'enunciado':\"\"\"Qual é a área de um círculo de raio $r$?<br>\n",
    "(a) $\\pi r^2$<br>\n",
    "(b) $\\pi r$<br>\n",
    "(c) $-\\pi r$<br>\n",
    "(d) $2\\pi r$<br>\n",
    "(e) $3\\pi r$\n",
    "\"\"\", 'alternativas': ['a','b','c','d','e'], \n",
    "     'gabarito':'a',\n",
    "     'dica':'Elimine as alternativas absurdas!'}\n",
    "with open('ex3.pickle', 'wb') as f:\n",
    "    # Pickle the 'data' dictionary using the highest protocol available.\n",
    "    pickle.dump(dic, f, pickle.HIGHEST_PROTOCOL)"
   ]
  },
  {
   "cell_type": "code",
   "execution_count": 111,
   "metadata": {
    "ExecuteTime": {
     "end_time": "2017-04-29T22:06:27.782430Z",
     "start_time": "2017-04-29T22:06:27.777961Z"
    },
    "run_control": {
     "frozen": false,
     "read_only": false
    }
   },
   "outputs": [
    {
     "data": {
      "text/plain": [
       "'ex3.pyc'"
      ]
     },
     "execution_count": 111,
     "metadata": {},
     "output_type": "execute_result"
    }
   ],
   "source": [
    "py_compile.compile(\"ex3.py\",cfile=\"ex3.pyc\")\n",
    "!rm ex3.py"
   ]
  },
  {
   "cell_type": "code",
   "execution_count": 112,
   "metadata": {
    "ExecuteTime": {
     "end_time": "2017-04-29T22:06:29.628220Z",
     "start_time": "2017-04-29T22:06:28.756556Z"
    },
    "run_control": {
     "frozen": false,
     "read_only": false
    }
   },
   "outputs": [
    {
     "data": {
      "text/plain": [
       "0"
      ]
     },
     "execution_count": 112,
     "metadata": {},
     "output_type": "execute_result"
    }
   ],
   "source": [
    "os.system(\"python ex3.pyc\")"
   ]
  },
  {
   "cell_type": "code",
   "execution_count": null,
   "metadata": {
    "collapsed": true,
    "run_control": {
     "frozen": false,
     "read_only": false
    }
   },
   "outputs": [],
   "source": []
  }
 ],
 "metadata": {
  "kernelspec": {
   "display_name": "Python 3",
   "language": "python",
   "name": "python3"
  },
  "language_info": {
   "codemirror_mode": {
    "name": "ipython",
    "version": 3
   },
   "file_extension": ".py",
   "mimetype": "text/x-python",
   "name": "python",
   "nbconvert_exporter": "python",
   "pygments_lexer": "ipython3",
   "version": "3.6.1"
  },
  "latex_envs": {
   "bibliofile": "biblio.bib",
   "cite_by": "apalike",
   "current_citInitial": 1,
   "eqLabelWithNumbers": true,
   "eqNumInitial": 0
  }
 },
 "nbformat": 4,
 "nbformat_minor": 2
}
