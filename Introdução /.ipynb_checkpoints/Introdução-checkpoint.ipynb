{
 "cells": [
  {
   "cell_type": "markdown",
   "metadata": {},
   "source": [
    "# Introdução Física Computacional\n",
    "\n",
    "- [Historia da Computação Científica](Historia.ipynb)\n",
    "- [Paradigmas de Programação](Paradigmas.ipynb)\n",
    "- [Linguagens de Programação](Linguagens de Programação.ipynb)\n",
    "- [Arquiteturas Computacionais](Arquiteturas.ipynb)\n",
    "- [Sistemas Operacionais](SO.ipynb)\n",
    "- [Python](Python.ipynb)\n"
   ]
  }
 ],
 "metadata": {
  "kernelspec": {
   "display_name": "Python 3",
   "language": "python",
   "name": "python3"
  },
  "language_info": {
   "codemirror_mode": {
    "name": "ipython",
    "version": 3
   },
   "file_extension": ".py",
   "mimetype": "text/x-python",
   "name": "python",
   "nbconvert_exporter": "python",
   "pygments_lexer": "ipython3",
   "version": "3.5.2"
  }
 },
 "nbformat": 4,
 "nbformat_minor": 2
}
